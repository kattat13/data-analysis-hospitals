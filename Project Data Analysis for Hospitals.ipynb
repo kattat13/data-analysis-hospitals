{
 "cells": [
  {
   "cell_type": "markdown",
   "id": "96711ce7",
   "metadata": {},
   "source": [
    "# Project: Data Analysis for Hospitals\n",
    "\n",
    "from JetBrains Academy, a project for track `Introductory Machine Learning in Python`\n",
    "\n",
    "The stages description from JetBrains will be marked by \n",
    "\n",
    "> blockquotes\n",
    "\n",
    "My comments will be written in standard format."
   ]
  },
  {
   "cell_type": "markdown",
   "id": "8b25f424",
   "metadata": {},
   "source": [
    "## Stage 1\n",
    ">\n",
    "> 1. Read 3 CSV files containing the datasets.\n",
    "> 2. Print the first 20 rows of each data frame. Use the following order: `general`, `prenatal`, `sports`.\n",
    ">\n",
    "\n",
    "`pd.set_option('display.max_columns', 8)` sets the number of columns to display, and is needed by JetBrains in first few stages for their testing engine. I don't need it here but remember to uncomment the line if you copy my code to yours."
   ]
  },
  {
   "cell_type": "code",
   "execution_count": 1,
   "id": "d5983713",
   "metadata": {},
   "outputs": [
    {
     "name": "stdout",
     "output_type": "stream",
     "text": [
      "    Unnamed: 0 hospital gender  age  height  weight   bmi    diagnosis  \\\n",
      "0            0  general    man   33    1.64      66  24.9         cold   \n",
      "1            1  general    man   48    1.93     106  28.4      stomach   \n",
      "2            2  general  woman   23    1.54      63  26.8         cold   \n",
      "3            3  general    man   27    1.94     103  27.5      stomach   \n",
      "4            4  general  woman   22    1.76      74  24.0  dislocation   \n",
      "5            5  general    man   46    1.90      96  26.6        heart   \n",
      "6            6  general  woman   68    1.80      85  26.4      stomach   \n",
      "7            7  general    man   35    1.57      61  25.0         cold   \n",
      "8            8  general  woman   50    1.86      86  25.0       sprain   \n",
      "9            9  general    man   25    1.79      82  25.5        heart   \n",
      "10          10  general    man   27    1.85      86  25.2        heart   \n",
      "11          11  general    man   57    1.86      95  27.5      stomach   \n",
      "12          12  general    man   29    1.88     100  28.6  dislocation   \n",
      "13          13  general  woman   18    1.70      80  27.8        heart   \n",
      "14          14  general  woman   47    1.80      83  25.9      stomach   \n",
      "15          15  general  woman   51    1.87     103  29.5         cold   \n",
      "16          16  general  woman   56    1.56      57  23.8     fracture   \n",
      "17          17  general  woman   38    1.62      71  27.3        heart   \n",
      "18          18  general  woman   32    1.72      77  26.3         cold   \n",
      "19          19  general  woman   69    1.72      80  27.2  dislocation   \n",
      "\n",
      "   blood_test  ecg ultrasound  mri xray  children  months  \n",
      "0           t  NaN        NaN  NaN  NaN       NaN     NaN  \n",
      "1           t  NaN          t  NaN  NaN       NaN     NaN  \n",
      "2           t  NaN        NaN  NaN  NaN       NaN     NaN  \n",
      "3           t  NaN          t  NaN  NaN       NaN     NaN  \n",
      "4         NaN  NaN        NaN  NaN    f       NaN     NaN  \n",
      "5           t    t        NaN  NaN  NaN       NaN     NaN  \n",
      "6           f  NaN          f  NaN  NaN       NaN     NaN  \n",
      "7           t  NaN        NaN  NaN  NaN       NaN     NaN  \n",
      "8         NaN  NaN        NaN  NaN    f       NaN     NaN  \n",
      "9           t    t        NaN  NaN  NaN       NaN     NaN  \n",
      "10          t    t        NaN  NaN  NaN       NaN     NaN  \n",
      "11          f  NaN          f  NaN  NaN       NaN     NaN  \n",
      "12        NaN  NaN        NaN  NaN    f       NaN     NaN  \n",
      "13          f    t        NaN  NaN  NaN       NaN     NaN  \n",
      "14          t  NaN          f  NaN  NaN       NaN     NaN  \n",
      "15          f  NaN        NaN  NaN  NaN       NaN     NaN  \n",
      "16        NaN  NaN        NaN  NaN    t       NaN     NaN  \n",
      "17          t    t        NaN  NaN  NaN       NaN     NaN  \n",
      "18          t  NaN        NaN  NaN  NaN       NaN     NaN  \n",
      "19        NaN  NaN        NaN  NaN    f       NaN     NaN  \n",
      "    Unnamed: 0  HOSPITAL  Sex   age  height  weight   bmi  diagnosis  \\\n",
      "0            0  prenatal  NaN  27.0    1.63    74.0  28.0  pregnancy   \n",
      "1            1  prenatal  NaN  18.0    1.70    89.0  31.3  pregnancy   \n",
      "2            2  prenatal  NaN  34.0    1.65    67.0  24.9  pregnancy   \n",
      "3            3  prenatal  NaN  29.0    1.58    71.0  28.7  pregnancy   \n",
      "4            4  prenatal  NaN  33.0    1.51    57.0  25.3  pregnancy   \n",
      "5            5  prenatal  NaN  31.0    1.96   101.0  26.3  pregnancy   \n",
      "6            6  prenatal  NaN  30.0    1.78    75.0  23.7  pregnancy   \n",
      "7            7  prenatal  NaN  19.0    1.70    83.0  28.6  pregnancy   \n",
      "8            8  prenatal  NaN  44.0    1.66    68.0  25.0  pregnancy   \n",
      "9            9  prenatal  NaN  35.0    1.57    54.0  22.3  pregnancy   \n",
      "10          10  prenatal  NaN  41.0    1.75    67.0  22.1  pregnancy   \n",
      "11          11  prenatal  NaN  26.0    1.67    71.0  25.8       cold   \n",
      "12          12  prenatal  NaN  25.0    1.71    80.0  27.5  pregnancy   \n",
      "13          13  prenatal  NaN  41.0    1.59    56.0  22.3  pregnancy   \n",
      "14          14  prenatal  NaN  27.0    1.91    90.0  25.0  pregnancy   \n",
      "15          15  prenatal  NaN  26.0    1.66    70.0  25.4  pregnancy   \n",
      "16          16  prenatal  NaN  16.0    1.60    70.0  27.4  pregnancy   \n",
      "17          17  prenatal  NaN  33.0    1.60    64.0  24.9  pregnancy   \n",
      "18          18  prenatal  NaN  35.0    1.81    79.0  24.5  pregnancy   \n",
      "19          19  prenatal  NaN  30.0    1.65    69.0  25.4  pregnancy   \n",
      "\n",
      "   blood_test ecg ultrasound  mri xray  children  months  \n",
      "0           t   t          t  NaN    f       0.0     3.0  \n",
      "1           t   t          t  NaN    f       1.0     5.0  \n",
      "2           t   t          t  NaN    f       1.0     5.0  \n",
      "3           t   t          t  NaN    f       2.0     3.0  \n",
      "4           t   t          t  NaN    f       1.0     7.0  \n",
      "5           t   t          t  NaN    f       0.0     3.0  \n",
      "6           t   t          t  NaN    f       0.0     5.0  \n",
      "7           t   t          t  NaN    f       1.0     6.0  \n",
      "8           t   t          t  NaN    f       2.0     6.0  \n",
      "9           t   t          t  NaN    f       0.0     6.0  \n",
      "10          t   t          t  NaN    f       2.0     7.0  \n",
      "11          t   t          t  NaN    f       0.0     7.0  \n",
      "12          t   t          t  NaN    f       1.0     5.0  \n",
      "13          t   t          t  NaN    f       2.0     8.0  \n",
      "14          t   t          t  NaN    f       0.0     6.0  \n",
      "15          t   t          t  NaN    f       2.0     2.0  \n",
      "16          t   t          t  NaN    f       1.0     4.0  \n",
      "17          t   t          t  NaN    f       1.0     9.0  \n",
      "18          t   t          t  NaN    f       1.0     8.0  \n",
      "19          t   t          t  NaN    f       2.0     9.0  \n",
      "    Unnamed: 0 Hospital Male/female   age  height  weight   bmi    diagnosis  \\\n",
      "0            0   sports      female  20.0   5.871   150.0  21.3       sprain   \n",
      "1            1   sports      female  20.0   6.665   248.0  27.3  dislocation   \n",
      "2            2   sports        male  16.0   6.960   273.0  27.6  dislocation   \n",
      "3            3   sports        male  17.0   7.128   269.0  25.9       sprain   \n",
      "4            4   sports        male  19.0   5.993   209.0  28.4  dislocation   \n",
      "5            5      NaN         NaN   NaN     NaN     NaN   NaN          NaN   \n",
      "6            6   sports      female  14.0   5.793   176.0  25.7       sprain   \n",
      "7            7   sports      female  22.0   7.351   265.0  24.0       sprain   \n",
      "8            8   sports      female  21.0   6.059   189.0  25.2     fracture   \n",
      "9            9   sports      female  18.0   5.338   151.0  26.0       sprain   \n",
      "10          10   sports        male  12.0   6.164   179.0  23.0     fracture   \n",
      "11          11   sports        male  15.0   6.181   242.0  31.0  dislocation   \n",
      "12          12   sports      female  22.0   6.140   211.0  27.4      stomach   \n",
      "13          13   sports      female  19.0   5.929   184.0  25.6     fracture   \n",
      "14          14   sports      female  16.0   6.446   230.0  27.1  dislocation   \n",
      "15          15   sports      female  19.0   6.592   285.0  32.1  dislocation   \n",
      "16          16   sports        male  18.0   6.746   240.0  25.8     fracture   \n",
      "17          17   sports      female  18.0   6.083   202.0  26.7       sprain   \n",
      "18          18   sports        male  19.0   6.968   253.0  25.5     fracture   \n",
      "19          19   sports      female  17.0   6.183   195.0  25.0       sprain   \n",
      "\n",
      "    blood_test  ecg  ultrasound  mri xray  children  months  \n",
      "0          NaN    f         NaN    t    f       NaN     NaN  \n",
      "1          NaN    f         NaN    f    t       NaN     NaN  \n",
      "2          NaN    f         NaN    f    t       NaN     NaN  \n",
      "3          NaN    f         NaN    t    f       NaN     NaN  \n",
      "4          NaN    f         NaN    f    t       NaN     NaN  \n",
      "5          NaN  NaN         NaN  NaN  NaN       NaN     NaN  \n",
      "6          NaN    f         NaN    t    f       NaN     NaN  \n",
      "7          NaN    f         NaN    t    f       NaN     NaN  \n",
      "8          NaN    f         NaN    f    t       NaN     NaN  \n",
      "9          NaN    f         NaN    t    f       NaN     NaN  \n",
      "10         NaN    f         NaN    f    t       NaN     NaN  \n",
      "11         NaN    f         NaN    f    t       NaN     NaN  \n",
      "12         NaN    f         NaN    f    f       NaN     NaN  \n",
      "13         NaN    f         NaN    f    t       NaN     NaN  \n",
      "14         NaN    f         NaN    f    t       NaN     NaN  \n",
      "15         NaN    f         NaN    f    t       NaN     NaN  \n",
      "16         NaN    f         NaN    f    t       NaN     NaN  \n",
      "17         NaN    f         NaN    t    f       NaN     NaN  \n",
      "18         NaN    f         NaN    f    t       NaN     NaN  \n",
      "19         NaN    f         NaN    t    f       NaN     NaN  \n"
     ]
    }
   ],
   "source": [
    "import pandas as pd\n",
    "# pd.set_option('display.max_columns', 8)\n",
    "\n",
    "df_gen = pd.read_csv('general.csv')\n",
    "df_pren = pd.read_csv('prenatal.csv')\n",
    "df_sp = pd.read_csv('sports.csv')\n",
    "\n",
    "print(df_gen.head(20))\n",
    "print(df_pren.head(20))\n",
    "print(df_sp.head(20))"
   ]
  },
  {
   "cell_type": "markdown",
   "id": "7077caa5",
   "metadata": {},
   "source": [
    "## Stage 2\n",
    "Renaming, merging, basic clean-up\n",
    "\n",
    ">\n",
    "> 3. rename columns for hospital type and gender in prenatal and sports so they match general hospital naming\n",
    "> 4. merge the dataframes into one\n",
    "> 5. delete the `Unnamed: 0` column\n",
    "> 6. delete all the empty rows\n",
    ">"
   ]
  },
  {
   "cell_type": "code",
   "execution_count": 2,
   "id": "d37fb003",
   "metadata": {},
   "outputs": [
    {
     "name": "stdout",
     "output_type": "stream",
     "text": [
      "Columns in general hospital: Index(['hospital', 'gender'], dtype='object') \n",
      "Columns in prenatal hospital: Index(['HOSPITAL', 'Sex'], dtype='object') \n",
      "Columns in sports hospital: Index(['Hospital', 'Male/female'], dtype='object')\n"
     ]
    }
   ],
   "source": [
    "# let's look at the differences in mentioned columns naming\n",
    "\n",
    "print('Columns in general hospital:', df_gen.columns[1:3],\n",
    "     '\\nColumns in prenatal hospital:', df_pren.columns[1:3],\n",
    "     '\\nColumns in sports hospital:', df_sp.columns[1:3])"
   ]
  },
  {
   "cell_type": "code",
   "execution_count": 3,
   "id": "6760ff7d",
   "metadata": {},
   "outputs": [],
   "source": [
    "# before the merge, we need to match it\n",
    "\n",
    "df_pren = df_pren.rename(columns={\n",
    "    'HOSPITAL': 'hospital',\n",
    "    'Sex': 'gender'\n",
    "})\n",
    "\n",
    "df_sp = df_sp.rename(columns={\n",
    "    'Hospital': 'hospital',\n",
    "    'Male/female': 'gender'\n",
    "})"
   ]
  },
  {
   "cell_type": "code",
   "execution_count": 4,
   "id": "9f7f5f3c",
   "metadata": {},
   "outputs": [
    {
     "name": "stdout",
     "output_type": "stream",
     "text": [
      "Columns in general hospital: Index(['hospital', 'gender'], dtype='object') \n",
      "Columns in prenatal hospital: Index(['hospital', 'gender'], dtype='object') \n",
      "Columns in sports hospital: Index(['hospital', 'gender'], dtype='object')\n"
     ]
    }
   ],
   "source": [
    "print('Columns in general hospital:', df_gen.columns[1:3],\n",
    "     '\\nColumns in prenatal hospital:', df_pren.columns[1:3],\n",
    "     '\\nColumns in sports hospital:', df_sp.columns[1:3])"
   ]
  },
  {
   "cell_type": "markdown",
   "id": "bad1972c",
   "metadata": {},
   "source": [
    "Now that we have a match, we can merge the dataframes (task 4)."
   ]
  },
  {
   "cell_type": "code",
   "execution_count": 5,
   "id": "26f4150c",
   "metadata": {},
   "outputs": [
    {
     "data": {
      "text/html": [
       "<div>\n",
       "<style scoped>\n",
       "    .dataframe tbody tr th:only-of-type {\n",
       "        vertical-align: middle;\n",
       "    }\n",
       "\n",
       "    .dataframe tbody tr th {\n",
       "        vertical-align: top;\n",
       "    }\n",
       "\n",
       "    .dataframe thead th {\n",
       "        text-align: right;\n",
       "    }\n",
       "</style>\n",
       "<table border=\"1\" class=\"dataframe\">\n",
       "  <thead>\n",
       "    <tr style=\"text-align: right;\">\n",
       "      <th></th>\n",
       "      <th>Unnamed: 0</th>\n",
       "      <th>hospital</th>\n",
       "      <th>gender</th>\n",
       "      <th>age</th>\n",
       "      <th>height</th>\n",
       "      <th>weight</th>\n",
       "      <th>bmi</th>\n",
       "      <th>diagnosis</th>\n",
       "      <th>blood_test</th>\n",
       "      <th>ecg</th>\n",
       "      <th>ultrasound</th>\n",
       "      <th>mri</th>\n",
       "      <th>xray</th>\n",
       "      <th>children</th>\n",
       "      <th>months</th>\n",
       "    </tr>\n",
       "  </thead>\n",
       "  <tbody>\n",
       "    <tr>\n",
       "      <th>0</th>\n",
       "      <td>0</td>\n",
       "      <td>general</td>\n",
       "      <td>man</td>\n",
       "      <td>33.0</td>\n",
       "      <td>1.64</td>\n",
       "      <td>66.0</td>\n",
       "      <td>24.9</td>\n",
       "      <td>cold</td>\n",
       "      <td>t</td>\n",
       "      <td>NaN</td>\n",
       "      <td>NaN</td>\n",
       "      <td>NaN</td>\n",
       "      <td>NaN</td>\n",
       "      <td>NaN</td>\n",
       "      <td>NaN</td>\n",
       "    </tr>\n",
       "    <tr>\n",
       "      <th>1</th>\n",
       "      <td>1</td>\n",
       "      <td>general</td>\n",
       "      <td>man</td>\n",
       "      <td>48.0</td>\n",
       "      <td>1.93</td>\n",
       "      <td>106.0</td>\n",
       "      <td>28.4</td>\n",
       "      <td>stomach</td>\n",
       "      <td>t</td>\n",
       "      <td>NaN</td>\n",
       "      <td>t</td>\n",
       "      <td>NaN</td>\n",
       "      <td>NaN</td>\n",
       "      <td>NaN</td>\n",
       "      <td>NaN</td>\n",
       "    </tr>\n",
       "    <tr>\n",
       "      <th>2</th>\n",
       "      <td>2</td>\n",
       "      <td>general</td>\n",
       "      <td>woman</td>\n",
       "      <td>23.0</td>\n",
       "      <td>1.54</td>\n",
       "      <td>63.0</td>\n",
       "      <td>26.8</td>\n",
       "      <td>cold</td>\n",
       "      <td>t</td>\n",
       "      <td>NaN</td>\n",
       "      <td>NaN</td>\n",
       "      <td>NaN</td>\n",
       "      <td>NaN</td>\n",
       "      <td>NaN</td>\n",
       "      <td>NaN</td>\n",
       "    </tr>\n",
       "    <tr>\n",
       "      <th>3</th>\n",
       "      <td>3</td>\n",
       "      <td>general</td>\n",
       "      <td>man</td>\n",
       "      <td>27.0</td>\n",
       "      <td>1.94</td>\n",
       "      <td>103.0</td>\n",
       "      <td>27.5</td>\n",
       "      <td>stomach</td>\n",
       "      <td>t</td>\n",
       "      <td>NaN</td>\n",
       "      <td>t</td>\n",
       "      <td>NaN</td>\n",
       "      <td>NaN</td>\n",
       "      <td>NaN</td>\n",
       "      <td>NaN</td>\n",
       "    </tr>\n",
       "    <tr>\n",
       "      <th>4</th>\n",
       "      <td>4</td>\n",
       "      <td>general</td>\n",
       "      <td>woman</td>\n",
       "      <td>22.0</td>\n",
       "      <td>1.76</td>\n",
       "      <td>74.0</td>\n",
       "      <td>24.0</td>\n",
       "      <td>dislocation</td>\n",
       "      <td>NaN</td>\n",
       "      <td>NaN</td>\n",
       "      <td>NaN</td>\n",
       "      <td>NaN</td>\n",
       "      <td>f</td>\n",
       "      <td>NaN</td>\n",
       "      <td>NaN</td>\n",
       "    </tr>\n",
       "    <tr>\n",
       "      <th>5</th>\n",
       "      <td>5</td>\n",
       "      <td>general</td>\n",
       "      <td>man</td>\n",
       "      <td>46.0</td>\n",
       "      <td>1.90</td>\n",
       "      <td>96.0</td>\n",
       "      <td>26.6</td>\n",
       "      <td>heart</td>\n",
       "      <td>t</td>\n",
       "      <td>t</td>\n",
       "      <td>NaN</td>\n",
       "      <td>NaN</td>\n",
       "      <td>NaN</td>\n",
       "      <td>NaN</td>\n",
       "      <td>NaN</td>\n",
       "    </tr>\n",
       "    <tr>\n",
       "      <th>6</th>\n",
       "      <td>6</td>\n",
       "      <td>general</td>\n",
       "      <td>woman</td>\n",
       "      <td>68.0</td>\n",
       "      <td>1.80</td>\n",
       "      <td>85.0</td>\n",
       "      <td>26.4</td>\n",
       "      <td>stomach</td>\n",
       "      <td>f</td>\n",
       "      <td>NaN</td>\n",
       "      <td>f</td>\n",
       "      <td>NaN</td>\n",
       "      <td>NaN</td>\n",
       "      <td>NaN</td>\n",
       "      <td>NaN</td>\n",
       "    </tr>\n",
       "    <tr>\n",
       "      <th>7</th>\n",
       "      <td>7</td>\n",
       "      <td>general</td>\n",
       "      <td>man</td>\n",
       "      <td>35.0</td>\n",
       "      <td>1.57</td>\n",
       "      <td>61.0</td>\n",
       "      <td>25.0</td>\n",
       "      <td>cold</td>\n",
       "      <td>t</td>\n",
       "      <td>NaN</td>\n",
       "      <td>NaN</td>\n",
       "      <td>NaN</td>\n",
       "      <td>NaN</td>\n",
       "      <td>NaN</td>\n",
       "      <td>NaN</td>\n",
       "    </tr>\n",
       "    <tr>\n",
       "      <th>8</th>\n",
       "      <td>8</td>\n",
       "      <td>general</td>\n",
       "      <td>woman</td>\n",
       "      <td>50.0</td>\n",
       "      <td>1.86</td>\n",
       "      <td>86.0</td>\n",
       "      <td>25.0</td>\n",
       "      <td>sprain</td>\n",
       "      <td>NaN</td>\n",
       "      <td>NaN</td>\n",
       "      <td>NaN</td>\n",
       "      <td>NaN</td>\n",
       "      <td>f</td>\n",
       "      <td>NaN</td>\n",
       "      <td>NaN</td>\n",
       "    </tr>\n",
       "    <tr>\n",
       "      <th>9</th>\n",
       "      <td>9</td>\n",
       "      <td>general</td>\n",
       "      <td>man</td>\n",
       "      <td>25.0</td>\n",
       "      <td>1.79</td>\n",
       "      <td>82.0</td>\n",
       "      <td>25.5</td>\n",
       "      <td>heart</td>\n",
       "      <td>t</td>\n",
       "      <td>t</td>\n",
       "      <td>NaN</td>\n",
       "      <td>NaN</td>\n",
       "      <td>NaN</td>\n",
       "      <td>NaN</td>\n",
       "      <td>NaN</td>\n",
       "    </tr>\n",
       "    <tr>\n",
       "      <th>10</th>\n",
       "      <td>10</td>\n",
       "      <td>general</td>\n",
       "      <td>man</td>\n",
       "      <td>27.0</td>\n",
       "      <td>1.85</td>\n",
       "      <td>86.0</td>\n",
       "      <td>25.2</td>\n",
       "      <td>heart</td>\n",
       "      <td>t</td>\n",
       "      <td>t</td>\n",
       "      <td>NaN</td>\n",
       "      <td>NaN</td>\n",
       "      <td>NaN</td>\n",
       "      <td>NaN</td>\n",
       "      <td>NaN</td>\n",
       "    </tr>\n",
       "    <tr>\n",
       "      <th>11</th>\n",
       "      <td>11</td>\n",
       "      <td>general</td>\n",
       "      <td>man</td>\n",
       "      <td>57.0</td>\n",
       "      <td>1.86</td>\n",
       "      <td>95.0</td>\n",
       "      <td>27.5</td>\n",
       "      <td>stomach</td>\n",
       "      <td>f</td>\n",
       "      <td>NaN</td>\n",
       "      <td>f</td>\n",
       "      <td>NaN</td>\n",
       "      <td>NaN</td>\n",
       "      <td>NaN</td>\n",
       "      <td>NaN</td>\n",
       "    </tr>\n",
       "    <tr>\n",
       "      <th>12</th>\n",
       "      <td>12</td>\n",
       "      <td>general</td>\n",
       "      <td>man</td>\n",
       "      <td>29.0</td>\n",
       "      <td>1.88</td>\n",
       "      <td>100.0</td>\n",
       "      <td>28.6</td>\n",
       "      <td>dislocation</td>\n",
       "      <td>NaN</td>\n",
       "      <td>NaN</td>\n",
       "      <td>NaN</td>\n",
       "      <td>NaN</td>\n",
       "      <td>f</td>\n",
       "      <td>NaN</td>\n",
       "      <td>NaN</td>\n",
       "    </tr>\n",
       "    <tr>\n",
       "      <th>13</th>\n",
       "      <td>13</td>\n",
       "      <td>general</td>\n",
       "      <td>woman</td>\n",
       "      <td>18.0</td>\n",
       "      <td>1.70</td>\n",
       "      <td>80.0</td>\n",
       "      <td>27.8</td>\n",
       "      <td>heart</td>\n",
       "      <td>f</td>\n",
       "      <td>t</td>\n",
       "      <td>NaN</td>\n",
       "      <td>NaN</td>\n",
       "      <td>NaN</td>\n",
       "      <td>NaN</td>\n",
       "      <td>NaN</td>\n",
       "    </tr>\n",
       "    <tr>\n",
       "      <th>14</th>\n",
       "      <td>14</td>\n",
       "      <td>general</td>\n",
       "      <td>woman</td>\n",
       "      <td>47.0</td>\n",
       "      <td>1.80</td>\n",
       "      <td>83.0</td>\n",
       "      <td>25.9</td>\n",
       "      <td>stomach</td>\n",
       "      <td>t</td>\n",
       "      <td>NaN</td>\n",
       "      <td>f</td>\n",
       "      <td>NaN</td>\n",
       "      <td>NaN</td>\n",
       "      <td>NaN</td>\n",
       "      <td>NaN</td>\n",
       "    </tr>\n",
       "    <tr>\n",
       "      <th>15</th>\n",
       "      <td>15</td>\n",
       "      <td>general</td>\n",
       "      <td>woman</td>\n",
       "      <td>51.0</td>\n",
       "      <td>1.87</td>\n",
       "      <td>103.0</td>\n",
       "      <td>29.5</td>\n",
       "      <td>cold</td>\n",
       "      <td>f</td>\n",
       "      <td>NaN</td>\n",
       "      <td>NaN</td>\n",
       "      <td>NaN</td>\n",
       "      <td>NaN</td>\n",
       "      <td>NaN</td>\n",
       "      <td>NaN</td>\n",
       "    </tr>\n",
       "    <tr>\n",
       "      <th>16</th>\n",
       "      <td>16</td>\n",
       "      <td>general</td>\n",
       "      <td>woman</td>\n",
       "      <td>56.0</td>\n",
       "      <td>1.56</td>\n",
       "      <td>57.0</td>\n",
       "      <td>23.8</td>\n",
       "      <td>fracture</td>\n",
       "      <td>NaN</td>\n",
       "      <td>NaN</td>\n",
       "      <td>NaN</td>\n",
       "      <td>NaN</td>\n",
       "      <td>t</td>\n",
       "      <td>NaN</td>\n",
       "      <td>NaN</td>\n",
       "    </tr>\n",
       "    <tr>\n",
       "      <th>17</th>\n",
       "      <td>17</td>\n",
       "      <td>general</td>\n",
       "      <td>woman</td>\n",
       "      <td>38.0</td>\n",
       "      <td>1.62</td>\n",
       "      <td>71.0</td>\n",
       "      <td>27.3</td>\n",
       "      <td>heart</td>\n",
       "      <td>t</td>\n",
       "      <td>t</td>\n",
       "      <td>NaN</td>\n",
       "      <td>NaN</td>\n",
       "      <td>NaN</td>\n",
       "      <td>NaN</td>\n",
       "      <td>NaN</td>\n",
       "    </tr>\n",
       "    <tr>\n",
       "      <th>18</th>\n",
       "      <td>18</td>\n",
       "      <td>general</td>\n",
       "      <td>woman</td>\n",
       "      <td>32.0</td>\n",
       "      <td>1.72</td>\n",
       "      <td>77.0</td>\n",
       "      <td>26.3</td>\n",
       "      <td>cold</td>\n",
       "      <td>t</td>\n",
       "      <td>NaN</td>\n",
       "      <td>NaN</td>\n",
       "      <td>NaN</td>\n",
       "      <td>NaN</td>\n",
       "      <td>NaN</td>\n",
       "      <td>NaN</td>\n",
       "    </tr>\n",
       "    <tr>\n",
       "      <th>19</th>\n",
       "      <td>19</td>\n",
       "      <td>general</td>\n",
       "      <td>woman</td>\n",
       "      <td>69.0</td>\n",
       "      <td>1.72</td>\n",
       "      <td>80.0</td>\n",
       "      <td>27.2</td>\n",
       "      <td>dislocation</td>\n",
       "      <td>NaN</td>\n",
       "      <td>NaN</td>\n",
       "      <td>NaN</td>\n",
       "      <td>NaN</td>\n",
       "      <td>f</td>\n",
       "      <td>NaN</td>\n",
       "      <td>NaN</td>\n",
       "    </tr>\n",
       "  </tbody>\n",
       "</table>\n",
       "</div>"
      ],
      "text/plain": [
       "    Unnamed: 0 hospital gender   age  height  weight   bmi    diagnosis  \\\n",
       "0            0  general    man  33.0    1.64    66.0  24.9         cold   \n",
       "1            1  general    man  48.0    1.93   106.0  28.4      stomach   \n",
       "2            2  general  woman  23.0    1.54    63.0  26.8         cold   \n",
       "3            3  general    man  27.0    1.94   103.0  27.5      stomach   \n",
       "4            4  general  woman  22.0    1.76    74.0  24.0  dislocation   \n",
       "5            5  general    man  46.0    1.90    96.0  26.6        heart   \n",
       "6            6  general  woman  68.0    1.80    85.0  26.4      stomach   \n",
       "7            7  general    man  35.0    1.57    61.0  25.0         cold   \n",
       "8            8  general  woman  50.0    1.86    86.0  25.0       sprain   \n",
       "9            9  general    man  25.0    1.79    82.0  25.5        heart   \n",
       "10          10  general    man  27.0    1.85    86.0  25.2        heart   \n",
       "11          11  general    man  57.0    1.86    95.0  27.5      stomach   \n",
       "12          12  general    man  29.0    1.88   100.0  28.6  dislocation   \n",
       "13          13  general  woman  18.0    1.70    80.0  27.8        heart   \n",
       "14          14  general  woman  47.0    1.80    83.0  25.9      stomach   \n",
       "15          15  general  woman  51.0    1.87   103.0  29.5         cold   \n",
       "16          16  general  woman  56.0    1.56    57.0  23.8     fracture   \n",
       "17          17  general  woman  38.0    1.62    71.0  27.3        heart   \n",
       "18          18  general  woman  32.0    1.72    77.0  26.3         cold   \n",
       "19          19  general  woman  69.0    1.72    80.0  27.2  dislocation   \n",
       "\n",
       "   blood_test  ecg ultrasound  mri xray  children  months  \n",
       "0           t  NaN        NaN  NaN  NaN       NaN     NaN  \n",
       "1           t  NaN          t  NaN  NaN       NaN     NaN  \n",
       "2           t  NaN        NaN  NaN  NaN       NaN     NaN  \n",
       "3           t  NaN          t  NaN  NaN       NaN     NaN  \n",
       "4         NaN  NaN        NaN  NaN    f       NaN     NaN  \n",
       "5           t    t        NaN  NaN  NaN       NaN     NaN  \n",
       "6           f  NaN          f  NaN  NaN       NaN     NaN  \n",
       "7           t  NaN        NaN  NaN  NaN       NaN     NaN  \n",
       "8         NaN  NaN        NaN  NaN    f       NaN     NaN  \n",
       "9           t    t        NaN  NaN  NaN       NaN     NaN  \n",
       "10          t    t        NaN  NaN  NaN       NaN     NaN  \n",
       "11          f  NaN          f  NaN  NaN       NaN     NaN  \n",
       "12        NaN  NaN        NaN  NaN    f       NaN     NaN  \n",
       "13          f    t        NaN  NaN  NaN       NaN     NaN  \n",
       "14          t  NaN          f  NaN  NaN       NaN     NaN  \n",
       "15          f  NaN        NaN  NaN  NaN       NaN     NaN  \n",
       "16        NaN  NaN        NaN  NaN    t       NaN     NaN  \n",
       "17          t    t        NaN  NaN  NaN       NaN     NaN  \n",
       "18          t  NaN        NaN  NaN  NaN       NaN     NaN  \n",
       "19        NaN  NaN        NaN  NaN    f       NaN     NaN  "
      ]
     },
     "execution_count": 5,
     "metadata": {},
     "output_type": "execute_result"
    }
   ],
   "source": [
    "df = pd.concat([df_gen, df_pren, df_sp], ignore_index=True)\n",
    "df.head(20)"
   ]
  },
  {
   "cell_type": "code",
   "execution_count": 6,
   "id": "f63ce7c7",
   "metadata": {},
   "outputs": [
    {
     "data": {
      "text/plain": [
       "(1006, 15)"
      ]
     },
     "execution_count": 6,
     "metadata": {},
     "output_type": "execute_result"
    }
   ],
   "source": [
    "df.shape"
   ]
  },
  {
   "cell_type": "code",
   "execution_count": 7,
   "id": "dc8bd9ec",
   "metadata": {},
   "outputs": [
    {
     "data": {
      "text/html": [
       "<div>\n",
       "<style scoped>\n",
       "    .dataframe tbody tr th:only-of-type {\n",
       "        vertical-align: middle;\n",
       "    }\n",
       "\n",
       "    .dataframe tbody tr th {\n",
       "        vertical-align: top;\n",
       "    }\n",
       "\n",
       "    .dataframe thead th {\n",
       "        text-align: right;\n",
       "    }\n",
       "</style>\n",
       "<table border=\"1\" class=\"dataframe\">\n",
       "  <thead>\n",
       "    <tr style=\"text-align: right;\">\n",
       "      <th></th>\n",
       "      <th>hospital</th>\n",
       "      <th>gender</th>\n",
       "      <th>age</th>\n",
       "      <th>height</th>\n",
       "      <th>weight</th>\n",
       "      <th>bmi</th>\n",
       "      <th>diagnosis</th>\n",
       "      <th>blood_test</th>\n",
       "      <th>ecg</th>\n",
       "      <th>ultrasound</th>\n",
       "      <th>mri</th>\n",
       "      <th>xray</th>\n",
       "      <th>children</th>\n",
       "      <th>months</th>\n",
       "    </tr>\n",
       "  </thead>\n",
       "  <tbody>\n",
       "    <tr>\n",
       "      <th>0</th>\n",
       "      <td>general</td>\n",
       "      <td>man</td>\n",
       "      <td>33.0</td>\n",
       "      <td>1.64</td>\n",
       "      <td>66.0</td>\n",
       "      <td>24.9</td>\n",
       "      <td>cold</td>\n",
       "      <td>t</td>\n",
       "      <td>NaN</td>\n",
       "      <td>NaN</td>\n",
       "      <td>NaN</td>\n",
       "      <td>NaN</td>\n",
       "      <td>NaN</td>\n",
       "      <td>NaN</td>\n",
       "    </tr>\n",
       "    <tr>\n",
       "      <th>1</th>\n",
       "      <td>general</td>\n",
       "      <td>man</td>\n",
       "      <td>48.0</td>\n",
       "      <td>1.93</td>\n",
       "      <td>106.0</td>\n",
       "      <td>28.4</td>\n",
       "      <td>stomach</td>\n",
       "      <td>t</td>\n",
       "      <td>NaN</td>\n",
       "      <td>t</td>\n",
       "      <td>NaN</td>\n",
       "      <td>NaN</td>\n",
       "      <td>NaN</td>\n",
       "      <td>NaN</td>\n",
       "    </tr>\n",
       "    <tr>\n",
       "      <th>2</th>\n",
       "      <td>general</td>\n",
       "      <td>woman</td>\n",
       "      <td>23.0</td>\n",
       "      <td>1.54</td>\n",
       "      <td>63.0</td>\n",
       "      <td>26.8</td>\n",
       "      <td>cold</td>\n",
       "      <td>t</td>\n",
       "      <td>NaN</td>\n",
       "      <td>NaN</td>\n",
       "      <td>NaN</td>\n",
       "      <td>NaN</td>\n",
       "      <td>NaN</td>\n",
       "      <td>NaN</td>\n",
       "    </tr>\n",
       "    <tr>\n",
       "      <th>3</th>\n",
       "      <td>general</td>\n",
       "      <td>man</td>\n",
       "      <td>27.0</td>\n",
       "      <td>1.94</td>\n",
       "      <td>103.0</td>\n",
       "      <td>27.5</td>\n",
       "      <td>stomach</td>\n",
       "      <td>t</td>\n",
       "      <td>NaN</td>\n",
       "      <td>t</td>\n",
       "      <td>NaN</td>\n",
       "      <td>NaN</td>\n",
       "      <td>NaN</td>\n",
       "      <td>NaN</td>\n",
       "    </tr>\n",
       "    <tr>\n",
       "      <th>4</th>\n",
       "      <td>general</td>\n",
       "      <td>woman</td>\n",
       "      <td>22.0</td>\n",
       "      <td>1.76</td>\n",
       "      <td>74.0</td>\n",
       "      <td>24.0</td>\n",
       "      <td>dislocation</td>\n",
       "      <td>NaN</td>\n",
       "      <td>NaN</td>\n",
       "      <td>NaN</td>\n",
       "      <td>NaN</td>\n",
       "      <td>f</td>\n",
       "      <td>NaN</td>\n",
       "      <td>NaN</td>\n",
       "    </tr>\n",
       "  </tbody>\n",
       "</table>\n",
       "</div>"
      ],
      "text/plain": [
       "  hospital gender   age  height  weight   bmi    diagnosis blood_test  ecg  \\\n",
       "0  general    man  33.0    1.64    66.0  24.9         cold          t  NaN   \n",
       "1  general    man  48.0    1.93   106.0  28.4      stomach          t  NaN   \n",
       "2  general  woman  23.0    1.54    63.0  26.8         cold          t  NaN   \n",
       "3  general    man  27.0    1.94   103.0  27.5      stomach          t  NaN   \n",
       "4  general  woman  22.0    1.76    74.0  24.0  dislocation        NaN  NaN   \n",
       "\n",
       "  ultrasound  mri xray  children  months  \n",
       "0        NaN  NaN  NaN       NaN     NaN  \n",
       "1          t  NaN  NaN       NaN     NaN  \n",
       "2        NaN  NaN  NaN       NaN     NaN  \n",
       "3          t  NaN  NaN       NaN     NaN  \n",
       "4        NaN  NaN    f       NaN     NaN  "
      ]
     },
     "execution_count": 7,
     "metadata": {},
     "output_type": "execute_result"
    }
   ],
   "source": [
    "# let's drop the redundant column standing out in the df\n",
    "df.drop('Unnamed: 0', axis=1, inplace=True)\n",
    "df.head()"
   ]
  },
  {
   "cell_type": "markdown",
   "id": "3bf08960",
   "metadata": {},
   "source": [
    "Perfect!\n",
    "\n",
    "In the last task of this stage, they want us to remove rows that are completely empty. Let's pause to look for them first, how do we know they are in our dataframe?"
   ]
  },
  {
   "cell_type": "code",
   "execution_count": 8,
   "id": "7db56e98",
   "metadata": {},
   "outputs": [
    {
     "data": {
      "text/html": [
       "<div>\n",
       "<style scoped>\n",
       "    .dataframe tbody tr th:only-of-type {\n",
       "        vertical-align: middle;\n",
       "    }\n",
       "\n",
       "    .dataframe tbody tr th {\n",
       "        vertical-align: top;\n",
       "    }\n",
       "\n",
       "    .dataframe thead th {\n",
       "        text-align: right;\n",
       "    }\n",
       "</style>\n",
       "<table border=\"1\" class=\"dataframe\">\n",
       "  <thead>\n",
       "    <tr style=\"text-align: right;\">\n",
       "      <th></th>\n",
       "      <th>hospital</th>\n",
       "      <th>gender</th>\n",
       "      <th>age</th>\n",
       "      <th>height</th>\n",
       "      <th>weight</th>\n",
       "      <th>bmi</th>\n",
       "      <th>diagnosis</th>\n",
       "      <th>blood_test</th>\n",
       "      <th>ecg</th>\n",
       "      <th>ultrasound</th>\n",
       "      <th>mri</th>\n",
       "      <th>xray</th>\n",
       "      <th>children</th>\n",
       "      <th>months</th>\n",
       "    </tr>\n",
       "  </thead>\n",
       "  <tbody>\n",
       "    <tr>\n",
       "      <th>564</th>\n",
       "      <td>NaN</td>\n",
       "      <td>NaN</td>\n",
       "      <td>NaN</td>\n",
       "      <td>NaN</td>\n",
       "      <td>NaN</td>\n",
       "      <td>NaN</td>\n",
       "      <td>NaN</td>\n",
       "      <td>NaN</td>\n",
       "      <td>NaN</td>\n",
       "      <td>NaN</td>\n",
       "      <td>NaN</td>\n",
       "      <td>NaN</td>\n",
       "      <td>NaN</td>\n",
       "      <td>NaN</td>\n",
       "    </tr>\n",
       "    <tr>\n",
       "      <th>651</th>\n",
       "      <td>NaN</td>\n",
       "      <td>NaN</td>\n",
       "      <td>NaN</td>\n",
       "      <td>NaN</td>\n",
       "      <td>NaN</td>\n",
       "      <td>NaN</td>\n",
       "      <td>NaN</td>\n",
       "      <td>NaN</td>\n",
       "      <td>NaN</td>\n",
       "      <td>NaN</td>\n",
       "      <td>NaN</td>\n",
       "      <td>NaN</td>\n",
       "      <td>NaN</td>\n",
       "      <td>NaN</td>\n",
       "    </tr>\n",
       "    <tr>\n",
       "      <th>700</th>\n",
       "      <td>NaN</td>\n",
       "      <td>NaN</td>\n",
       "      <td>NaN</td>\n",
       "      <td>NaN</td>\n",
       "      <td>NaN</td>\n",
       "      <td>NaN</td>\n",
       "      <td>NaN</td>\n",
       "      <td>NaN</td>\n",
       "      <td>NaN</td>\n",
       "      <td>NaN</td>\n",
       "      <td>NaN</td>\n",
       "      <td>NaN</td>\n",
       "      <td>NaN</td>\n",
       "      <td>NaN</td>\n",
       "    </tr>\n",
       "    <tr>\n",
       "      <th>794</th>\n",
       "      <td>NaN</td>\n",
       "      <td>NaN</td>\n",
       "      <td>NaN</td>\n",
       "      <td>NaN</td>\n",
       "      <td>NaN</td>\n",
       "      <td>NaN</td>\n",
       "      <td>NaN</td>\n",
       "      <td>NaN</td>\n",
       "      <td>NaN</td>\n",
       "      <td>NaN</td>\n",
       "      <td>NaN</td>\n",
       "      <td>NaN</td>\n",
       "      <td>NaN</td>\n",
       "      <td>NaN</td>\n",
       "    </tr>\n",
       "    <tr>\n",
       "      <th>861</th>\n",
       "      <td>NaN</td>\n",
       "      <td>NaN</td>\n",
       "      <td>NaN</td>\n",
       "      <td>NaN</td>\n",
       "      <td>NaN</td>\n",
       "      <td>NaN</td>\n",
       "      <td>NaN</td>\n",
       "      <td>NaN</td>\n",
       "      <td>NaN</td>\n",
       "      <td>NaN</td>\n",
       "      <td>NaN</td>\n",
       "      <td>NaN</td>\n",
       "      <td>NaN</td>\n",
       "      <td>NaN</td>\n",
       "    </tr>\n",
       "    <tr>\n",
       "      <th>864</th>\n",
       "      <td>NaN</td>\n",
       "      <td>NaN</td>\n",
       "      <td>NaN</td>\n",
       "      <td>NaN</td>\n",
       "      <td>NaN</td>\n",
       "      <td>NaN</td>\n",
       "      <td>NaN</td>\n",
       "      <td>NaN</td>\n",
       "      <td>NaN</td>\n",
       "      <td>NaN</td>\n",
       "      <td>NaN</td>\n",
       "      <td>NaN</td>\n",
       "      <td>NaN</td>\n",
       "      <td>NaN</td>\n",
       "    </tr>\n",
       "  </tbody>\n",
       "</table>\n",
       "</div>"
      ],
      "text/plain": [
       "    hospital gender  age  height  weight  bmi diagnosis blood_test  ecg  \\\n",
       "564      NaN    NaN  NaN     NaN     NaN  NaN       NaN        NaN  NaN   \n",
       "651      NaN    NaN  NaN     NaN     NaN  NaN       NaN        NaN  NaN   \n",
       "700      NaN    NaN  NaN     NaN     NaN  NaN       NaN        NaN  NaN   \n",
       "794      NaN    NaN  NaN     NaN     NaN  NaN       NaN        NaN  NaN   \n",
       "861      NaN    NaN  NaN     NaN     NaN  NaN       NaN        NaN  NaN   \n",
       "864      NaN    NaN  NaN     NaN     NaN  NaN       NaN        NaN  NaN   \n",
       "\n",
       "    ultrasound  mri xray  children  months  \n",
       "564        NaN  NaN  NaN       NaN     NaN  \n",
       "651        NaN  NaN  NaN       NaN     NaN  \n",
       "700        NaN  NaN  NaN       NaN     NaN  \n",
       "794        NaN  NaN  NaN       NaN     NaN  \n",
       "861        NaN  NaN  NaN       NaN     NaN  \n",
       "864        NaN  NaN  NaN       NaN     NaN  "
      ]
     },
     "execution_count": 8,
     "metadata": {},
     "output_type": "execute_result"
    }
   ],
   "source": [
    "df[df.isna().all(axis=1)]"
   ]
  },
  {
   "cell_type": "markdown",
   "id": "ab2f4bbf",
   "metadata": {},
   "source": [
    "So we have 6 completely empty rows. We do not need them, right?\n",
    "\n",
    "But remember to drop **only** these 6 rows. We will need other rows with some empty cells for later."
   ]
  },
  {
   "cell_type": "code",
   "execution_count": 9,
   "id": "dbcb0015",
   "metadata": {},
   "outputs": [
    {
     "data": {
      "text/html": [
       "<div>\n",
       "<style scoped>\n",
       "    .dataframe tbody tr th:only-of-type {\n",
       "        vertical-align: middle;\n",
       "    }\n",
       "\n",
       "    .dataframe tbody tr th {\n",
       "        vertical-align: top;\n",
       "    }\n",
       "\n",
       "    .dataframe thead th {\n",
       "        text-align: right;\n",
       "    }\n",
       "</style>\n",
       "<table border=\"1\" class=\"dataframe\">\n",
       "  <thead>\n",
       "    <tr style=\"text-align: right;\">\n",
       "      <th></th>\n",
       "      <th>hospital</th>\n",
       "      <th>gender</th>\n",
       "      <th>age</th>\n",
       "      <th>height</th>\n",
       "      <th>weight</th>\n",
       "      <th>bmi</th>\n",
       "      <th>diagnosis</th>\n",
       "      <th>blood_test</th>\n",
       "      <th>ecg</th>\n",
       "      <th>ultrasound</th>\n",
       "      <th>mri</th>\n",
       "      <th>xray</th>\n",
       "      <th>children</th>\n",
       "      <th>months</th>\n",
       "    </tr>\n",
       "  </thead>\n",
       "  <tbody>\n",
       "  </tbody>\n",
       "</table>\n",
       "</div>"
      ],
      "text/plain": [
       "Empty DataFrame\n",
       "Columns: [hospital, gender, age, height, weight, bmi, diagnosis, blood_test, ecg, ultrasound, mri, xray, children, months]\n",
       "Index: []"
      ]
     },
     "execution_count": 9,
     "metadata": {},
     "output_type": "execute_result"
    }
   ],
   "source": [
    "df.dropna(how='all', inplace=True)\n",
    "df[df.isna().all(axis=1)]"
   ]
  },
  {
   "cell_type": "code",
   "execution_count": 10,
   "id": "0aa9bf87",
   "metadata": {},
   "outputs": [
    {
     "data": {
      "text/plain": [
       "(1000, 14)"
      ]
     },
     "execution_count": 10,
     "metadata": {},
     "output_type": "execute_result"
    }
   ],
   "source": [
    "# let's also check how the shape of our df changed\n",
    "\n",
    "df.shape"
   ]
  },
  {
   "cell_type": "markdown",
   "id": "97c7ecb4",
   "metadata": {},
   "source": [
    "We still have lots to do, so time for:\n",
    "\n",
    "## Stage 3\n",
    "\n",
    "where we improve the dataset a bit.\n",
    "\n",
    ">\n",
    "> 7. Correct all the gender column values to `f` and `m` respectively\n",
    "> 8. Replace the NaN values in the `gender` column of the `prenatal` hospital with `f`\n",
    "> 9. Replace the NaN values in the `bmi`, `diagnosis`, `blood_test`, `ecg`, `ultrasound`, `mri`, `xray`, `children`, `months` columns with zeros.\n",
    "> 10. Print shape of the resulting data frame.\n",
    "> 11. Print random 20 rows of the resulting data frame. For the reproducible output set `random_state=30`.\n",
    ">\n",
    "\n"
   ]
  },
  {
   "cell_type": "markdown",
   "id": "d35850f3",
   "metadata": {},
   "source": [
    "As they point out, the `gender` column contains different values that represent the same. To see that, check:"
   ]
  },
  {
   "cell_type": "code",
   "execution_count": 11,
   "id": "4c0e2fc7",
   "metadata": {},
   "outputs": [
    {
     "data": {
      "text/plain": [
       "0          man\n",
       "1          man\n",
       "2        woman\n",
       "3          man\n",
       "4        woman\n",
       "         ...  \n",
       "1001      male\n",
       "1002      male\n",
       "1003      male\n",
       "1004    female\n",
       "1005    female\n",
       "Name: gender, Length: 1000, dtype: object"
      ]
     },
     "execution_count": 11,
     "metadata": {},
     "output_type": "execute_result"
    }
   ],
   "source": [
    "df['gender']"
   ]
  },
  {
   "cell_type": "code",
   "execution_count": 12,
   "id": "eb02b050",
   "metadata": {},
   "outputs": [
    {
     "data": {
      "text/plain": [
       "array(['man', 'woman', nan, 'female', 'male'], dtype=object)"
      ]
     },
     "execution_count": 12,
     "metadata": {},
     "output_type": "execute_result"
    }
   ],
   "source": [
    "df['gender'].unique()"
   ]
  },
  {
   "cell_type": "markdown",
   "id": "10cdd51b",
   "metadata": {},
   "source": [
    "You can correct it with `replace` function and simple dictionary:"
   ]
  },
  {
   "cell_type": "code",
   "execution_count": 13,
   "id": "1f7d925a",
   "metadata": {},
   "outputs": [],
   "source": [
    "df['gender'].replace({'man': 'm', 'male': 'm', 'female': 'f', 'woman': 'f'}, inplace=True)"
   ]
  },
  {
   "cell_type": "code",
   "execution_count": 14,
   "id": "667e1c63",
   "metadata": {},
   "outputs": [
    {
     "data": {
      "text/plain": [
       "array(['m', 'f', nan], dtype=object)"
      ]
     },
     "execution_count": 14,
     "metadata": {},
     "output_type": "execute_result"
    }
   ],
   "source": [
    "df['gender'].unique()"
   ]
  },
  {
   "cell_type": "markdown",
   "id": "f241bd7f",
   "metadata": {},
   "source": [
    "What about the `nan` values? How do we check them?"
   ]
  },
  {
   "cell_type": "code",
   "execution_count": 15,
   "id": "5d877856",
   "metadata": {},
   "outputs": [
    {
     "data": {
      "text/html": [
       "<div>\n",
       "<style scoped>\n",
       "    .dataframe tbody tr th:only-of-type {\n",
       "        vertical-align: middle;\n",
       "    }\n",
       "\n",
       "    .dataframe tbody tr th {\n",
       "        vertical-align: top;\n",
       "    }\n",
       "\n",
       "    .dataframe thead th {\n",
       "        text-align: right;\n",
       "    }\n",
       "</style>\n",
       "<table border=\"1\" class=\"dataframe\">\n",
       "  <thead>\n",
       "    <tr style=\"text-align: right;\">\n",
       "      <th></th>\n",
       "      <th>hospital</th>\n",
       "      <th>gender</th>\n",
       "      <th>age</th>\n",
       "      <th>height</th>\n",
       "      <th>weight</th>\n",
       "      <th>bmi</th>\n",
       "      <th>diagnosis</th>\n",
       "      <th>blood_test</th>\n",
       "      <th>ecg</th>\n",
       "      <th>ultrasound</th>\n",
       "      <th>mri</th>\n",
       "      <th>xray</th>\n",
       "      <th>children</th>\n",
       "      <th>months</th>\n",
       "    </tr>\n",
       "  </thead>\n",
       "  <tbody>\n",
       "    <tr>\n",
       "      <th>461</th>\n",
       "      <td>prenatal</td>\n",
       "      <td>NaN</td>\n",
       "      <td>27.0</td>\n",
       "      <td>1.63</td>\n",
       "      <td>74.0</td>\n",
       "      <td>28.0</td>\n",
       "      <td>pregnancy</td>\n",
       "      <td>t</td>\n",
       "      <td>t</td>\n",
       "      <td>t</td>\n",
       "      <td>NaN</td>\n",
       "      <td>f</td>\n",
       "      <td>0.0</td>\n",
       "      <td>3.0</td>\n",
       "    </tr>\n",
       "    <tr>\n",
       "      <th>462</th>\n",
       "      <td>prenatal</td>\n",
       "      <td>NaN</td>\n",
       "      <td>18.0</td>\n",
       "      <td>1.70</td>\n",
       "      <td>89.0</td>\n",
       "      <td>31.3</td>\n",
       "      <td>pregnancy</td>\n",
       "      <td>t</td>\n",
       "      <td>t</td>\n",
       "      <td>t</td>\n",
       "      <td>NaN</td>\n",
       "      <td>f</td>\n",
       "      <td>1.0</td>\n",
       "      <td>5.0</td>\n",
       "    </tr>\n",
       "    <tr>\n",
       "      <th>463</th>\n",
       "      <td>prenatal</td>\n",
       "      <td>NaN</td>\n",
       "      <td>34.0</td>\n",
       "      <td>1.65</td>\n",
       "      <td>67.0</td>\n",
       "      <td>24.9</td>\n",
       "      <td>pregnancy</td>\n",
       "      <td>t</td>\n",
       "      <td>t</td>\n",
       "      <td>t</td>\n",
       "      <td>NaN</td>\n",
       "      <td>f</td>\n",
       "      <td>1.0</td>\n",
       "      <td>5.0</td>\n",
       "    </tr>\n",
       "    <tr>\n",
       "      <th>464</th>\n",
       "      <td>prenatal</td>\n",
       "      <td>NaN</td>\n",
       "      <td>29.0</td>\n",
       "      <td>1.58</td>\n",
       "      <td>71.0</td>\n",
       "      <td>28.7</td>\n",
       "      <td>pregnancy</td>\n",
       "      <td>t</td>\n",
       "      <td>t</td>\n",
       "      <td>t</td>\n",
       "      <td>NaN</td>\n",
       "      <td>f</td>\n",
       "      <td>2.0</td>\n",
       "      <td>3.0</td>\n",
       "    </tr>\n",
       "    <tr>\n",
       "      <th>465</th>\n",
       "      <td>prenatal</td>\n",
       "      <td>NaN</td>\n",
       "      <td>33.0</td>\n",
       "      <td>1.51</td>\n",
       "      <td>57.0</td>\n",
       "      <td>25.3</td>\n",
       "      <td>pregnancy</td>\n",
       "      <td>t</td>\n",
       "      <td>t</td>\n",
       "      <td>t</td>\n",
       "      <td>NaN</td>\n",
       "      <td>f</td>\n",
       "      <td>1.0</td>\n",
       "      <td>7.0</td>\n",
       "    </tr>\n",
       "    <tr>\n",
       "      <th>...</th>\n",
       "      <td>...</td>\n",
       "      <td>...</td>\n",
       "      <td>...</td>\n",
       "      <td>...</td>\n",
       "      <td>...</td>\n",
       "      <td>...</td>\n",
       "      <td>...</td>\n",
       "      <td>...</td>\n",
       "      <td>...</td>\n",
       "      <td>...</td>\n",
       "      <td>...</td>\n",
       "      <td>...</td>\n",
       "      <td>...</td>\n",
       "      <td>...</td>\n",
       "    </tr>\n",
       "    <tr>\n",
       "      <th>784</th>\n",
       "      <td>prenatal</td>\n",
       "      <td>NaN</td>\n",
       "      <td>32.0</td>\n",
       "      <td>1.80</td>\n",
       "      <td>76.0</td>\n",
       "      <td>23.8</td>\n",
       "      <td>pregnancy</td>\n",
       "      <td>t</td>\n",
       "      <td>t</td>\n",
       "      <td>t</td>\n",
       "      <td>NaN</td>\n",
       "      <td>f</td>\n",
       "      <td>2.0</td>\n",
       "      <td>2.0</td>\n",
       "    </tr>\n",
       "    <tr>\n",
       "      <th>785</th>\n",
       "      <td>prenatal</td>\n",
       "      <td>NaN</td>\n",
       "      <td>23.0</td>\n",
       "      <td>1.57</td>\n",
       "      <td>67.0</td>\n",
       "      <td>27.3</td>\n",
       "      <td>pregnancy</td>\n",
       "      <td>t</td>\n",
       "      <td>t</td>\n",
       "      <td>t</td>\n",
       "      <td>NaN</td>\n",
       "      <td>f</td>\n",
       "      <td>2.0</td>\n",
       "      <td>7.0</td>\n",
       "    </tr>\n",
       "    <tr>\n",
       "      <th>786</th>\n",
       "      <td>prenatal</td>\n",
       "      <td>NaN</td>\n",
       "      <td>31.0</td>\n",
       "      <td>1.57</td>\n",
       "      <td>71.0</td>\n",
       "      <td>28.8</td>\n",
       "      <td>pregnancy</td>\n",
       "      <td>t</td>\n",
       "      <td>t</td>\n",
       "      <td>t</td>\n",
       "      <td>NaN</td>\n",
       "      <td>f</td>\n",
       "      <td>1.0</td>\n",
       "      <td>9.0</td>\n",
       "    </tr>\n",
       "    <tr>\n",
       "      <th>787</th>\n",
       "      <td>prenatal</td>\n",
       "      <td>NaN</td>\n",
       "      <td>31.0</td>\n",
       "      <td>1.71</td>\n",
       "      <td>74.0</td>\n",
       "      <td>25.3</td>\n",
       "      <td>pregnancy</td>\n",
       "      <td>t</td>\n",
       "      <td>t</td>\n",
       "      <td>t</td>\n",
       "      <td>NaN</td>\n",
       "      <td>f</td>\n",
       "      <td>1.0</td>\n",
       "      <td>2.0</td>\n",
       "    </tr>\n",
       "    <tr>\n",
       "      <th>788</th>\n",
       "      <td>prenatal</td>\n",
       "      <td>NaN</td>\n",
       "      <td>25.0</td>\n",
       "      <td>1.80</td>\n",
       "      <td>82.0</td>\n",
       "      <td>25.4</td>\n",
       "      <td>pregnancy</td>\n",
       "      <td>t</td>\n",
       "      <td>t</td>\n",
       "      <td>t</td>\n",
       "      <td>NaN</td>\n",
       "      <td>f</td>\n",
       "      <td>1.0</td>\n",
       "      <td>3.0</td>\n",
       "    </tr>\n",
       "  </tbody>\n",
       "</table>\n",
       "<p>325 rows × 14 columns</p>\n",
       "</div>"
      ],
      "text/plain": [
       "     hospital gender   age  height  weight   bmi  diagnosis blood_test ecg  \\\n",
       "461  prenatal    NaN  27.0    1.63    74.0  28.0  pregnancy          t   t   \n",
       "462  prenatal    NaN  18.0    1.70    89.0  31.3  pregnancy          t   t   \n",
       "463  prenatal    NaN  34.0    1.65    67.0  24.9  pregnancy          t   t   \n",
       "464  prenatal    NaN  29.0    1.58    71.0  28.7  pregnancy          t   t   \n",
       "465  prenatal    NaN  33.0    1.51    57.0  25.3  pregnancy          t   t   \n",
       "..        ...    ...   ...     ...     ...   ...        ...        ...  ..   \n",
       "784  prenatal    NaN  32.0    1.80    76.0  23.8  pregnancy          t   t   \n",
       "785  prenatal    NaN  23.0    1.57    67.0  27.3  pregnancy          t   t   \n",
       "786  prenatal    NaN  31.0    1.57    71.0  28.8  pregnancy          t   t   \n",
       "787  prenatal    NaN  31.0    1.71    74.0  25.3  pregnancy          t   t   \n",
       "788  prenatal    NaN  25.0    1.80    82.0  25.4  pregnancy          t   t   \n",
       "\n",
       "    ultrasound  mri xray  children  months  \n",
       "461          t  NaN    f       0.0     3.0  \n",
       "462          t  NaN    f       1.0     5.0  \n",
       "463          t  NaN    f       1.0     5.0  \n",
       "464          t  NaN    f       2.0     3.0  \n",
       "465          t  NaN    f       1.0     7.0  \n",
       "..         ...  ...  ...       ...     ...  \n",
       "784          t  NaN    f       2.0     2.0  \n",
       "785          t  NaN    f       2.0     7.0  \n",
       "786          t  NaN    f       1.0     9.0  \n",
       "787          t  NaN    f       1.0     2.0  \n",
       "788          t  NaN    f       1.0     3.0  \n",
       "\n",
       "[325 rows x 14 columns]"
      ]
     },
     "execution_count": 15,
     "metadata": {},
     "output_type": "execute_result"
    }
   ],
   "source": [
    "df[df['gender'].isna()]"
   ]
  },
  {
   "cell_type": "markdown",
   "id": "95ecfdcc",
   "metadata": {},
   "source": [
    "They ask us to replace the `NaN`s with `f` because all of these values come from prenatal hospital. But how do we check that ourselves?\n",
    "\n",
    "There are many ways to do that but the quickest for me was to simply check if the number of rows for prenatal hospital is also `325`:"
   ]
  },
  {
   "cell_type": "code",
   "execution_count": 16,
   "id": "e404d1cf",
   "metadata": {},
   "outputs": [
    {
     "data": {
      "text/plain": [
       "325"
      ]
     },
     "execution_count": 16,
     "metadata": {},
     "output_type": "execute_result"
    }
   ],
   "source": [
    "df[df['hospital']=='prenatal'].shape[0]"
   ]
  },
  {
   "cell_type": "markdown",
   "id": "432a825b",
   "metadata": {},
   "source": [
    "Yup, there's a match, I think we can trust them and fill the rest of `NaN`s in `gender` to `f`:"
   ]
  },
  {
   "cell_type": "code",
   "execution_count": 17,
   "id": "2749cf46",
   "metadata": {},
   "outputs": [],
   "source": [
    "df['gender'].fillna('f', inplace=True)"
   ]
  },
  {
   "cell_type": "code",
   "execution_count": 18,
   "id": "d1a7b0fa",
   "metadata": {},
   "outputs": [
    {
     "data": {
      "text/html": [
       "<div>\n",
       "<style scoped>\n",
       "    .dataframe tbody tr th:only-of-type {\n",
       "        vertical-align: middle;\n",
       "    }\n",
       "\n",
       "    .dataframe tbody tr th {\n",
       "        vertical-align: top;\n",
       "    }\n",
       "\n",
       "    .dataframe thead th {\n",
       "        text-align: right;\n",
       "    }\n",
       "</style>\n",
       "<table border=\"1\" class=\"dataframe\">\n",
       "  <thead>\n",
       "    <tr style=\"text-align: right;\">\n",
       "      <th></th>\n",
       "      <th>hospital</th>\n",
       "      <th>gender</th>\n",
       "      <th>age</th>\n",
       "      <th>height</th>\n",
       "      <th>weight</th>\n",
       "      <th>bmi</th>\n",
       "      <th>diagnosis</th>\n",
       "      <th>blood_test</th>\n",
       "      <th>ecg</th>\n",
       "      <th>ultrasound</th>\n",
       "      <th>mri</th>\n",
       "      <th>xray</th>\n",
       "      <th>children</th>\n",
       "      <th>months</th>\n",
       "    </tr>\n",
       "  </thead>\n",
       "  <tbody>\n",
       "  </tbody>\n",
       "</table>\n",
       "</div>"
      ],
      "text/plain": [
       "Empty DataFrame\n",
       "Columns: [hospital, gender, age, height, weight, bmi, diagnosis, blood_test, ecg, ultrasound, mri, xray, children, months]\n",
       "Index: []"
      ]
     },
     "execution_count": 18,
     "metadata": {},
     "output_type": "execute_result"
    }
   ],
   "source": [
    "df[df['gender'].isna()]"
   ]
  },
  {
   "cell_type": "markdown",
   "id": "b9a9a83b",
   "metadata": {},
   "source": [
    "---\n",
    "\n",
    "In tasks 9-11 they want us to fill all other empty values with zeros and two prints, so let's do just that:"
   ]
  },
  {
   "cell_type": "code",
   "execution_count": 19,
   "id": "3648c54c",
   "metadata": {},
   "outputs": [
    {
     "name": "stdout",
     "output_type": "stream",
     "text": [
      "(1000, 14)\n",
      "     hospital gender   age  height  weight   bmi  diagnosis blood_test ecg  \\\n",
      "929    sports      f  23.0   6.809   259.0  27.3     sprain          0   f   \n",
      "927    sports      m  21.0   6.052   172.0  22.9     sprain          0   f   \n",
      "516  prenatal      f  20.0   1.650    66.0  24.3  pregnancy          t   t   \n",
      "87    general      m  54.0   1.720    78.0  26.4    stomach          f   0   \n",
      "885    sports      f  16.0   5.915   188.0  26.3     sprain          0   f   \n",
      "463  prenatal      f  34.0   1.650    67.0  24.9  pregnancy          t   t   \n",
      "112   general      m  77.0   1.690    77.0  27.1      heart          t   t   \n",
      "297   general      m  56.0   1.480    54.0  25.1       cold          f   0   \n",
      "417   general      f  26.0   1.650    69.0  25.3       cold          t   0   \n",
      "660  prenatal      f  38.0   1.590    70.0  27.6  pregnancy          t   t   \n",
      "344   general      f  60.0   1.410    56.0  28.3    stomach          t   0   \n",
      "834    sports      f  21.0   5.585   184.0  29.0   fracture          0   f   \n",
      "10    general      m  27.0   1.850    86.0  25.2      heart          t   t   \n",
      "56    general      m  23.0   1.650    66.0  24.1      heart          f   t   \n",
      "616  prenatal      f  33.0   1.770    81.0  25.9  pregnancy          t   t   \n",
      "479  prenatal      f  35.0   1.810    79.0  24.5  pregnancy          t   t   \n",
      "578  prenatal      f  31.0   1.770    85.0  27.1  pregnancy          t   t   \n",
      "411   general      m  26.0   1.610    70.0  27.2       cold          t   0   \n",
      "521  prenatal      f  30.0   1.740    74.0  24.7       cold          t   t   \n",
      "941    sports      f  25.0   6.208   222.0  28.2   fracture          0   f   \n",
      "\n",
      "    ultrasound mri xray  children  months  \n",
      "929          0   t    f       0.0     0.0  \n",
      "927          0   t    f       0.0     0.0  \n",
      "516          t   0    f       1.0     4.0  \n",
      "87           t   0    0       0.0     0.0  \n",
      "885          0   t    f       0.0     0.0  \n",
      "463          t   0    f       1.0     5.0  \n",
      "112          0   0    0       0.0     0.0  \n",
      "297          0   0    0       0.0     0.0  \n",
      "417          0   0    0       0.0     0.0  \n",
      "660          t   0    f       1.0     4.0  \n",
      "344          f   0    0       0.0     0.0  \n",
      "834          0   f    t       0.0     0.0  \n",
      "10           0   0    0       0.0     0.0  \n",
      "56           0   0    0       0.0     0.0  \n",
      "616          t   0    f       1.0     7.0  \n",
      "479          t   0    f       1.0     8.0  \n",
      "578          t   0    f       1.0     8.0  \n",
      "411          0   0    0       0.0     0.0  \n",
      "521          t   0    f       1.0     3.0  \n",
      "941          0   f    t       0.0     0.0  \n"
     ]
    }
   ],
   "source": [
    "df.fillna(0, inplace=True)\n",
    "print(df.shape)\n",
    "print(df.sample(n=20, random_state=30))"
   ]
  },
  {
   "cell_type": "markdown",
   "id": "b5f2882d",
   "metadata": {},
   "source": [
    "## Stage 4\n",
    "\n",
    "where we do some statistics.\n",
    "In this stage they use task counting from 1, so I will follow:\n",
    "\n",
    "> \n",
    "> 1. Find the hospital with highest number of patients.\n",
    "> 2. What is the share of the patients in the general hospital who suffer from stomach-related issues?\n",
    "> 3. What is the share of the patients in the sports hospital who suffer from dislocation-related issues?\n",
    "> 4. Calculte the difference in the median ages of the patients in the general and sports hospitals.\n",
    "> 5. Find the hospital with the biggest number of t in the blood_test column. How many blood tests were taken?\n",
    ">\n",
    "\n",
    "To solve this stage, you need to print the answers, using the format they ask for:\n",
    "\n",
    "- _The answer to the 1st question is_\n",
    "- _The answer to the 2nd question is_\n",
    "- _The answer to the 3rd question is_\n",
    "\n",
    "So I will provide how I did that."
   ]
  },
  {
   "cell_type": "markdown",
   "id": "b7f69f46",
   "metadata": {},
   "source": [
    "First, hospital with highest number of patients. Looks easy, that's what `value_counts` is for:"
   ]
  },
  {
   "cell_type": "code",
   "execution_count": 20,
   "id": "a3e9c78a",
   "metadata": {},
   "outputs": [
    {
     "data": {
      "text/plain": [
       "general     461\n",
       "prenatal    325\n",
       "sports      214\n",
       "Name: hospital, dtype: int64"
      ]
     },
     "execution_count": 20,
     "metadata": {},
     "output_type": "execute_result"
    }
   ],
   "source": [
    "df['hospital'].value_counts()"
   ]
  },
  {
   "cell_type": "markdown",
   "id": "5635bcfe",
   "metadata": {},
   "source": [
    "But it shows us all hospital types an their number of patiens and we need only the highest number.\n",
    "That's what `idxmax()` is for:"
   ]
  },
  {
   "cell_type": "code",
   "execution_count": 21,
   "id": "6509d974",
   "metadata": {},
   "outputs": [
    {
     "data": {
      "text/plain": [
       "'general'"
      ]
     },
     "execution_count": 21,
     "metadata": {},
     "output_type": "execute_result"
    }
   ],
   "source": [
    "df['hospital'].value_counts().idxmax()"
   ]
  },
  {
   "cell_type": "code",
   "execution_count": 22,
   "id": "d67cd552",
   "metadata": {},
   "outputs": [
    {
     "name": "stdout",
     "output_type": "stream",
     "text": [
      "The answer to the 1st question is general\n"
     ]
    }
   ],
   "source": [
    "print('The answer to the 1st question is',\n",
    "      df['hospital'].value_counts().idxmax())"
   ]
  },
  {
   "cell_type": "markdown",
   "id": "ba50396b",
   "metadata": {},
   "source": [
    "---\n",
    "\n",
    "In task 2, they want us to calculate the share of the patients in the general hospital who suffer from stomach-related issues.\n",
    "Firstly, I created a subset for only general hospital, and then a subset for stomach diagnosis. You can do this in one line."
   ]
  },
  {
   "cell_type": "code",
   "execution_count": 23,
   "id": "12511ff2",
   "metadata": {},
   "outputs": [],
   "source": [
    "general_hospital = df[df['hospital'] == 'general']\n",
    "gene_stomach = general_hospital[general_hospital['diagnosis'] == 'stomach']"
   ]
  },
  {
   "cell_type": "markdown",
   "id": "ec2e2d21",
   "metadata": {},
   "source": [
    "To calculate the share, we need to do a simple division: the number of people suffering from stomach issues in general hospital (number of rows) by number of all general hospital's patients. The `.shape` is the quickest for that."
   ]
  },
  {
   "cell_type": "code",
   "execution_count": 24,
   "id": "f07a69e7",
   "metadata": {},
   "outputs": [
    {
     "name": "stdout",
     "output_type": "stream",
     "text": [
      "The answer to the 2nd question is 0.325\n"
     ]
    }
   ],
   "source": [
    "print('The answer to the 2nd question is',\n",
    "      round(gene_stomach.shape[0] / general_hospital.shape[0], 3))"
   ]
  },
  {
   "cell_type": "markdown",
   "id": "5a3e900a",
   "metadata": {},
   "source": [
    "---\n",
    "\n",
    "In task 3, almost the same calclations, but here I used `value_counts()` function:"
   ]
  },
  {
   "cell_type": "code",
   "execution_count": 25,
   "id": "84b9db20",
   "metadata": {},
   "outputs": [
    {
     "name": "stdout",
     "output_type": "stream",
     "text": [
      "The answer to the 3rd question is 0.285\n"
     ]
    }
   ],
   "source": [
    "# Share of the patients in the sports hospital\n",
    "# who suffer from dislocation-related issues\n",
    "sports = df[df['hospital'] == 'sports']\n",
    "sports_disloc = sports[sports['diagnosis'] == 'dislocation']\n",
    "\n",
    "print('The answer to the 3rd question is',\n",
    "      round(sports_disloc.shape[0] / df.hospital.value_counts().sports, 3))"
   ]
  },
  {
   "cell_type": "markdown",
   "id": "411693cc",
   "metadata": {},
   "source": [
    "---\n",
    "\n",
    "In task 4, we need to calculate the difference in the median ages of the patients in the general and sports hospitals.\n",
    "That's easy with `loc`:"
   ]
  },
  {
   "cell_type": "code",
   "execution_count": 26,
   "id": "84ea6702",
   "metadata": {},
   "outputs": [
    {
     "name": "stdout",
     "output_type": "stream",
     "text": [
      "The answer to the 4th question is 19.0\n"
     ]
    }
   ],
   "source": [
    "print('The answer to the 4th question is',\n",
    "      df.loc[df['hospital'] == 'general', 'age'].median()\n",
    "      - df.loc[df['hospital'] == 'sports', 'age'].median())"
   ]
  },
  {
   "cell_type": "markdown",
   "id": "0354aa44",
   "metadata": {},
   "source": [
    "---\n",
    "\n",
    "In the task 5, they want us to find the hospital with the biggest number of `t` in the `blood_test` column, and answer question: how many blood tests were taken (in this particular hospital)?\n",
    "\n",
    "For starters, I created a subset of only `hospital` and `blood_test` cols.\n",
    "To calculate the answer, I used `value_counts()`:"
   ]
  },
  {
   "cell_type": "code",
   "execution_count": 27,
   "id": "e0e8b145",
   "metadata": {},
   "outputs": [
    {
     "data": {
      "text/plain": [
       "blood_test  hospital\n",
       "t           prenatal    325\n",
       "0           sports      214\n",
       "f           general     206\n",
       "t           general     183\n",
       "0           general      72\n",
       "dtype: int64"
      ]
     },
     "execution_count": 27,
     "metadata": {},
     "output_type": "execute_result"
    }
   ],
   "source": [
    "hospitals_bloodtests = df[['blood_test', 'hospital']]\n",
    "hospitals_bloodtests.value_counts()"
   ]
  },
  {
   "cell_type": "markdown",
   "id": "ab68e4a3",
   "metadata": {},
   "source": [
    "We need the biggest number. Again, `idxmax()` will come in handy:"
   ]
  },
  {
   "cell_type": "code",
   "execution_count": 28,
   "id": "860526e2",
   "metadata": {},
   "outputs": [
    {
     "data": {
      "text/plain": [
       "('t', 'prenatal')"
      ]
     },
     "execution_count": 28,
     "metadata": {},
     "output_type": "execute_result"
    }
   ],
   "source": [
    "hospitals_bloodtests.value_counts().idxmax()"
   ]
  },
  {
   "cell_type": "markdown",
   "id": "0c4c75a2",
   "metadata": {},
   "source": [
    "But it shows a tuple and they ask only for hospital name. Slicing, it is, then:"
   ]
  },
  {
   "cell_type": "code",
   "execution_count": 29,
   "id": "88860d2f",
   "metadata": {},
   "outputs": [
    {
     "data": {
      "text/plain": [
       "'prenatal'"
      ]
     },
     "execution_count": 29,
     "metadata": {},
     "output_type": "execute_result"
    }
   ],
   "source": [
    "hospitals_bloodtests.value_counts().idxmax()[1]"
   ]
  },
  {
   "cell_type": "markdown",
   "id": "3eae7e85",
   "metadata": {},
   "source": [
    "What about the number of tests?"
   ]
  },
  {
   "cell_type": "code",
   "execution_count": 30,
   "id": "c69535bd",
   "metadata": {},
   "outputs": [
    {
     "data": {
      "text/plain": [
       "325"
      ]
     },
     "execution_count": 30,
     "metadata": {},
     "output_type": "execute_result"
    }
   ],
   "source": [
    "hospitals_bloodtests.value_counts().max()"
   ]
  },
  {
   "cell_type": "code",
   "execution_count": 31,
   "id": "e04191ea",
   "metadata": {},
   "outputs": [
    {
     "name": "stdout",
     "output_type": "stream",
     "text": [
      "The answer to the 5th question is prenatal 325\n"
     ]
    }
   ],
   "source": [
    "print('The answer to the 5th question is',\n",
    "      hospitals_bloodtests.value_counts().idxmax()[1],\n",
    "      hospitals_bloodtests.value_counts().max())"
   ]
  },
  {
   "cell_type": "markdown",
   "id": "471d4d59",
   "metadata": {},
   "source": [
    "Time for:\n",
    "## Stage 5\n",
    "Visualize it!\n",
    "\n",
    ">\n",
    "> 1. What is the most common age of a patient among all hospitals? Plot a histogram and choose one of the following age ranges: 0-15, 15-35, 35-55, 55-70, or 70-80\n",
    "> 2. What is the most common diagnosis among patients in all hospitals? Create a pie chart.\n",
    "> 3. Build a violin plot of height distribution by hospitals. Try to answer the questions. What is the main reason for the gap in values? Why there are two peaks, which correspond to the relatively small and big values? No special form is required to answer this question.\n",
    ">\n",
    "\n",
    "Here, what they need us to do is create some data visualizations, using any library you want. I am using `matplotlib` and `seaborn`, they recommend `pandas`.\n",
    "\n",
    "Their test validator is not checking the plots but definately checks if there are `plt.show()` passed 3 times. They require printing the:\n",
    "\n",
    "- The answer to the 1st question is\n",
    "- The answer to the 2nd question is\n",
    "- The answer to the 3rd question is\n",
    "\n",
    "as well. I just put the prints before `plt.show()` and it passed the tests."
   ]
  },
  {
   "cell_type": "markdown",
   "id": "387099d4",
   "metadata": {},
   "source": [
    "Don't forget to import the libraries!"
   ]
  },
  {
   "cell_type": "code",
   "execution_count": 32,
   "id": "ef615790",
   "metadata": {},
   "outputs": [],
   "source": [
    "import matplotlib.pyplot as plt\n",
    "import seaborn as sns"
   ]
  },
  {
   "cell_type": "markdown",
   "id": "29b4f717",
   "metadata": {},
   "source": [
    "Task 1: a histogram showing patients' age with provided age ranges. For this, we need bins and then just plot:"
   ]
  },
  {
   "cell_type": "code",
   "execution_count": 33,
   "id": "85d5b0c5",
   "metadata": {},
   "outputs": [
    {
     "data": {
      "text/plain": [
       "<AxesSubplot:ylabel='Frequency'>"
      ]
     },
     "execution_count": 33,
     "metadata": {},
     "output_type": "execute_result"
    },
    {
     "data": {
      "image/png": "[encoded data removed]",
      "text/plain": [
       "<Figure size 432x288 with 1 Axes>"
      ]
     },
     "metadata": {
      "needs_background": "light"
     },
     "output_type": "display_data"
    }
   ],
   "source": [
    "bins = [0, 15, 35, 55, 70, 80]\n",
    "df.plot(y='age', kind='hist', bins=bins)"
   ]
  },
  {
   "cell_type": "markdown",
   "id": "bb2bfbc8",
   "metadata": {},
   "source": [
    "It's enought to see the most common age, but I wanted something prettier ;)"
   ]
  },
  {
   "cell_type": "code",
   "execution_count": 34,
   "id": "fb085950",
   "metadata": {},
   "outputs": [
    {
     "data": {
      "image/png": "[encoded data removed]",
      "text/plain": [
       "<Figure size 432x288 with 1 Axes>"
      ]
     },
     "metadata": {
      "needs_background": "light"
     },
     "output_type": "display_data"
    }
   ],
   "source": [
    "plt.hist(df['age'],\n",
    "         bins=bins,\n",
    "         color='pink',\n",
    "         edgecolor='white')\n",
    "plt.title('Age of patients among all hospitals')\n",
    "plt.ylabel(\"Number of people\")\n",
    "plt.xlabel(\"Age\")\n",
    "# print('The answer to the 1st question: 15-35')  # uncomment if you copy it for the tester\n",
    "plt.show()"
   ]
  },
  {
   "cell_type": "markdown",
   "id": "07a310da",
   "metadata": {},
   "source": [
    "---\n",
    "\n",
    "Task 2: a pie chart with diagnoses. No special requirements here, you just need to use `plt.pie()` and pass the `diagnosis` column with `value_counts()`.\n",
    "To answer the question, you need to assign labels or a legend.\n",
    "\n",
    "I played with it a bit, but you don't have to:"
   ]
  },
  {
   "cell_type": "code",
   "execution_count": 35,
   "id": "4f867109",
   "metadata": {},
   "outputs": [
    {
     "data": {
      "image/png": "[encoded data removed]",
      "text/plain": [
       "<Figure size 648x504 with 1 Axes>"
      ]
     },
     "metadata": {},
     "output_type": "display_data"
    }
   ],
   "source": [
    "plt.figure(figsize=(9, 7))\n",
    "plt.pie(df['diagnosis'].value_counts(),\n",
    "       explode=[0.2, 0, 0, 0, 0, 0, 0],\n",
    "       colors=sns.color_palette(\"rocket\", 8),\n",
    "       labels=df['diagnosis'].value_counts(),\n",
    "       startangle=180)\n",
    "plt.title('Diagnosis among patients in all hospitals', fontsize=14)\n",
    "plt.legend(df['diagnosis'].value_counts().index,\n",
    "          loc=\"lower center\")\n",
    "# print('The answer to the 2nd question: pregnancy')  # uncomment if you copy it for the tester\n",
    "plt.show()"
   ]
  },
  {
   "cell_type": "markdown",
   "id": "e2956761",
   "metadata": {},
   "source": [
    "---\n",
    "\n",
    "Last task is for building a violin plot of height distribution by hospitals.\n",
    "Let's do just that:"
   ]
  },
  {
   "cell_type": "code",
   "execution_count": 36,
   "id": "57ef845f",
   "metadata": {},
   "outputs": [
    {
     "data": {
      "image/png": "[encoded data removed]",
      "text/plain": [
       "<Figure size 432x288 with 1 Axes>"
      ]
     },
     "metadata": {
      "needs_background": "light"
     },
     "output_type": "display_data"
    }
   ],
   "source": [
    "plt.violinplot(df['height'])\n",
    "plt.show()"
   ]
  },
  {
   "cell_type": "markdown",
   "id": "31c05559",
   "metadata": {},
   "source": [
    "The questons are:\n",
    "\n",
    ">\n",
    "> What is the main reason for the gap in values?\n",
    ">\n",
    "> Why there are two peaks, which correspond to the relatively small and big values? \n",
    ">\n",
    "\n",
    "Yes, indeed, this is weird. Let's look at the dataframe:"
   ]
  },
  {
   "cell_type": "code",
   "execution_count": 37,
   "id": "2a31dd00",
   "metadata": {},
   "outputs": [
    {
     "data": {
      "text/plain": [
       "154    1.780\n",
       "387    1.770\n",
       "906    5.991\n",
       "561    1.640\n",
       "684    1.630\n",
       "508    1.520\n",
       "731    1.730\n",
       "121    1.530\n",
       "985    6.389\n",
       "692    1.460\n",
       "633    1.790\n",
       "717    1.530\n",
       "607    1.500\n",
       "273    1.740\n",
       "23     1.770\n",
       "318    1.700\n",
       "323    1.940\n",
       "171    1.730\n",
       "22     1.890\n",
       "749    1.760\n",
       "Name: height, dtype: float64"
      ]
     },
     "execution_count": 37,
     "metadata": {},
     "output_type": "execute_result"
    }
   ],
   "source": [
    "df['height'].sample(20)"
   ]
  },
  {
   "cell_type": "markdown",
   "id": "ad5d7da1",
   "metadata": {},
   "source": [
    "This is height of a human, right? Values like 1.660 look okay, but there are no 7-meters humans, right? Even in sports, I guess?\n",
    "The answer is simple: some hospitals stored the height data in meters and some in feet.\n",
    "\n",
    "There you have it. You can just print such answer and complete the project:"
   ]
  },
  {
   "cell_type": "code",
   "execution_count": 38,
   "id": "534b0403",
   "metadata": {},
   "outputs": [
    {
     "name": "stdout",
     "output_type": "stream",
     "text": [
      "The answer to the 3rd question: It's because of the difference in the unit of measurement of height\n"
     ]
    }
   ],
   "source": [
    "print(\"The answer to the 3rd question: It's because of the difference in the unit of measurement of height\")"
   ]
  },
  {
   "cell_type": "markdown",
   "id": "997794bb",
   "metadata": {},
   "source": [
    "But I want to push it further and equalize this difference. It should have been done at the beginning, they ommitted this on purpose.\n",
    "\n",
    "So task for the bravest: build the violin plot on corrected heights.\n",
    "\n",
    "Firstly, I would like to know which hospital is using feet units and if there are any conditions.\n",
    "My first shot is to simply check the means of the heights per hospital:"
   ]
  },
  {
   "cell_type": "code",
   "execution_count": 39,
   "id": "a70bf56d",
   "metadata": {},
   "outputs": [
    {
     "data": {
      "text/plain": [
       "hospital\n",
       "general     1.729219\n",
       "prenatal    1.690862\n",
       "sports      6.288612\n",
       "Name: height, dtype: float64"
      ]
     },
     "execution_count": 39,
     "metadata": {},
     "output_type": "execute_result"
    }
   ],
   "source": [
    "df.groupby('hospital')['height'].mean()"
   ]
  },
  {
   "cell_type": "markdown",
   "id": "ab5053fa",
   "metadata": {},
   "source": [
    "Bingo! We can assume only sports hospital is using feet unit. So we can just replace the height in feet, calculating the value in meters."
   ]
  },
  {
   "cell_type": "code",
   "execution_count": 52,
   "id": "8a7d4cb8",
   "metadata": {},
   "outputs": [
    {
     "data": {
      "text/html": [
       "<div>\n",
       "<style scoped>\n",
       "    .dataframe tbody tr th:only-of-type {\n",
       "        vertical-align: middle;\n",
       "    }\n",
       "\n",
       "    .dataframe tbody tr th {\n",
       "        vertical-align: top;\n",
       "    }\n",
       "\n",
       "    .dataframe thead th {\n",
       "        text-align: right;\n",
       "    }\n",
       "</style>\n",
       "<table border=\"1\" class=\"dataframe\">\n",
       "  <thead>\n",
       "    <tr style=\"text-align: right;\">\n",
       "      <th></th>\n",
       "      <th>hospital</th>\n",
       "      <th>gender</th>\n",
       "      <th>age</th>\n",
       "      <th>height</th>\n",
       "      <th>weight</th>\n",
       "      <th>bmi</th>\n",
       "      <th>diagnosis</th>\n",
       "      <th>blood_test</th>\n",
       "      <th>ecg</th>\n",
       "      <th>ultrasound</th>\n",
       "      <th>mri</th>\n",
       "      <th>xray</th>\n",
       "      <th>children</th>\n",
       "      <th>months</th>\n",
       "    </tr>\n",
       "  </thead>\n",
       "  <tbody>\n",
       "    <tr>\n",
       "      <th>767</th>\n",
       "      <td>prenatal</td>\n",
       "      <td>f</td>\n",
       "      <td>24.0</td>\n",
       "      <td>1.550</td>\n",
       "      <td>72.0</td>\n",
       "      <td>30.3</td>\n",
       "      <td>pregnancy</td>\n",
       "      <td>t</td>\n",
       "      <td>t</td>\n",
       "      <td>t</td>\n",
       "      <td>0</td>\n",
       "      <td>f</td>\n",
       "      <td>0.0</td>\n",
       "      <td>6.0</td>\n",
       "    </tr>\n",
       "    <tr>\n",
       "      <th>222</th>\n",
       "      <td>general</td>\n",
       "      <td>m</td>\n",
       "      <td>41.0</td>\n",
       "      <td>1.850</td>\n",
       "      <td>85.0</td>\n",
       "      <td>24.8</td>\n",
       "      <td>sprain</td>\n",
       "      <td>0</td>\n",
       "      <td>0</td>\n",
       "      <td>0</td>\n",
       "      <td>0</td>\n",
       "      <td>f</td>\n",
       "      <td>0.0</td>\n",
       "      <td>0.0</td>\n",
       "    </tr>\n",
       "    <tr>\n",
       "      <th>747</th>\n",
       "      <td>prenatal</td>\n",
       "      <td>f</td>\n",
       "      <td>32.0</td>\n",
       "      <td>1.860</td>\n",
       "      <td>103.0</td>\n",
       "      <td>29.8</td>\n",
       "      <td>pregnancy</td>\n",
       "      <td>t</td>\n",
       "      <td>t</td>\n",
       "      <td>t</td>\n",
       "      <td>0</td>\n",
       "      <td>f</td>\n",
       "      <td>1.0</td>\n",
       "      <td>4.0</td>\n",
       "    </tr>\n",
       "    <tr>\n",
       "      <th>479</th>\n",
       "      <td>prenatal</td>\n",
       "      <td>f</td>\n",
       "      <td>35.0</td>\n",
       "      <td>1.810</td>\n",
       "      <td>79.0</td>\n",
       "      <td>24.5</td>\n",
       "      <td>pregnancy</td>\n",
       "      <td>t</td>\n",
       "      <td>t</td>\n",
       "      <td>t</td>\n",
       "      <td>0</td>\n",
       "      <td>f</td>\n",
       "      <td>1.0</td>\n",
       "      <td>8.0</td>\n",
       "    </tr>\n",
       "    <tr>\n",
       "      <th>463</th>\n",
       "      <td>prenatal</td>\n",
       "      <td>f</td>\n",
       "      <td>34.0</td>\n",
       "      <td>1.650</td>\n",
       "      <td>67.0</td>\n",
       "      <td>24.9</td>\n",
       "      <td>pregnancy</td>\n",
       "      <td>t</td>\n",
       "      <td>t</td>\n",
       "      <td>t</td>\n",
       "      <td>0</td>\n",
       "      <td>f</td>\n",
       "      <td>1.0</td>\n",
       "      <td>5.0</td>\n",
       "    </tr>\n",
       "    <tr>\n",
       "      <th>843</th>\n",
       "      <td>sports</td>\n",
       "      <td>f</td>\n",
       "      <td>15.0</td>\n",
       "      <td>1.927</td>\n",
       "      <td>205.0</td>\n",
       "      <td>25.1</td>\n",
       "      <td>dislocation</td>\n",
       "      <td>0</td>\n",
       "      <td>f</td>\n",
       "      <td>0</td>\n",
       "      <td>f</td>\n",
       "      <td>t</td>\n",
       "      <td>0.0</td>\n",
       "      <td>0.0</td>\n",
       "    </tr>\n",
       "    <tr>\n",
       "      <th>952</th>\n",
       "      <td>sports</td>\n",
       "      <td>m</td>\n",
       "      <td>21.0</td>\n",
       "      <td>1.840</td>\n",
       "      <td>186.0</td>\n",
       "      <td>24.9</td>\n",
       "      <td>sprain</td>\n",
       "      <td>0</td>\n",
       "      <td>f</td>\n",
       "      <td>0</td>\n",
       "      <td>t</td>\n",
       "      <td>f</td>\n",
       "      <td>0.0</td>\n",
       "      <td>0.0</td>\n",
       "    </tr>\n",
       "    <tr>\n",
       "      <th>539</th>\n",
       "      <td>prenatal</td>\n",
       "      <td>f</td>\n",
       "      <td>31.0</td>\n",
       "      <td>1.740</td>\n",
       "      <td>66.0</td>\n",
       "      <td>22.1</td>\n",
       "      <td>pregnancy</td>\n",
       "      <td>t</td>\n",
       "      <td>t</td>\n",
       "      <td>t</td>\n",
       "      <td>0</td>\n",
       "      <td>f</td>\n",
       "      <td>0.0</td>\n",
       "      <td>6.0</td>\n",
       "    </tr>\n",
       "    <tr>\n",
       "      <th>690</th>\n",
       "      <td>prenatal</td>\n",
       "      <td>f</td>\n",
       "      <td>13.0</td>\n",
       "      <td>1.520</td>\n",
       "      <td>55.0</td>\n",
       "      <td>24.0</td>\n",
       "      <td>pregnancy</td>\n",
       "      <td>t</td>\n",
       "      <td>t</td>\n",
       "      <td>t</td>\n",
       "      <td>0</td>\n",
       "      <td>f</td>\n",
       "      <td>1.0</td>\n",
       "      <td>5.0</td>\n",
       "    </tr>\n",
       "    <tr>\n",
       "      <th>793</th>\n",
       "      <td>sports</td>\n",
       "      <td>m</td>\n",
       "      <td>19.0</td>\n",
       "      <td>1.827</td>\n",
       "      <td>209.0</td>\n",
       "      <td>28.4</td>\n",
       "      <td>dislocation</td>\n",
       "      <td>0</td>\n",
       "      <td>f</td>\n",
       "      <td>0</td>\n",
       "      <td>f</td>\n",
       "      <td>t</td>\n",
       "      <td>0.0</td>\n",
       "      <td>0.0</td>\n",
       "    </tr>\n",
       "    <tr>\n",
       "      <th>957</th>\n",
       "      <td>sports</td>\n",
       "      <td>f</td>\n",
       "      <td>18.0</td>\n",
       "      <td>1.732</td>\n",
       "      <td>201.0</td>\n",
       "      <td>30.4</td>\n",
       "      <td>fracture</td>\n",
       "      <td>0</td>\n",
       "      <td>f</td>\n",
       "      <td>0</td>\n",
       "      <td>f</td>\n",
       "      <td>t</td>\n",
       "      <td>0.0</td>\n",
       "      <td>0.0</td>\n",
       "    </tr>\n",
       "    <tr>\n",
       "      <th>50</th>\n",
       "      <td>general</td>\n",
       "      <td>f</td>\n",
       "      <td>25.0</td>\n",
       "      <td>1.670</td>\n",
       "      <td>76.0</td>\n",
       "      <td>27.2</td>\n",
       "      <td>cold</td>\n",
       "      <td>f</td>\n",
       "      <td>0</td>\n",
       "      <td>0</td>\n",
       "      <td>0</td>\n",
       "      <td>0</td>\n",
       "      <td>0.0</td>\n",
       "      <td>0.0</td>\n",
       "    </tr>\n",
       "    <tr>\n",
       "      <th>550</th>\n",
       "      <td>prenatal</td>\n",
       "      <td>f</td>\n",
       "      <td>31.0</td>\n",
       "      <td>1.870</td>\n",
       "      <td>97.0</td>\n",
       "      <td>28.1</td>\n",
       "      <td>pregnancy</td>\n",
       "      <td>t</td>\n",
       "      <td>t</td>\n",
       "      <td>t</td>\n",
       "      <td>0</td>\n",
       "      <td>f</td>\n",
       "      <td>0.0</td>\n",
       "      <td>9.0</td>\n",
       "    </tr>\n",
       "    <tr>\n",
       "      <th>584</th>\n",
       "      <td>prenatal</td>\n",
       "      <td>f</td>\n",
       "      <td>31.0</td>\n",
       "      <td>1.520</td>\n",
       "      <td>71.0</td>\n",
       "      <td>30.8</td>\n",
       "      <td>pregnancy</td>\n",
       "      <td>t</td>\n",
       "      <td>t</td>\n",
       "      <td>t</td>\n",
       "      <td>0</td>\n",
       "      <td>f</td>\n",
       "      <td>0.0</td>\n",
       "      <td>4.0</td>\n",
       "    </tr>\n",
       "    <tr>\n",
       "      <th>102</th>\n",
       "      <td>general</td>\n",
       "      <td>f</td>\n",
       "      <td>51.0</td>\n",
       "      <td>1.690</td>\n",
       "      <td>66.0</td>\n",
       "      <td>23.3</td>\n",
       "      <td>heart</td>\n",
       "      <td>t</td>\n",
       "      <td>t</td>\n",
       "      <td>0</td>\n",
       "      <td>0</td>\n",
       "      <td>0</td>\n",
       "      <td>0.0</td>\n",
       "      <td>0.0</td>\n",
       "    </tr>\n",
       "    <tr>\n",
       "      <th>905</th>\n",
       "      <td>sports</td>\n",
       "      <td>f</td>\n",
       "      <td>22.0</td>\n",
       "      <td>1.792</td>\n",
       "      <td>174.0</td>\n",
       "      <td>24.6</td>\n",
       "      <td>fracture</td>\n",
       "      <td>0</td>\n",
       "      <td>f</td>\n",
       "      <td>0</td>\n",
       "      <td>f</td>\n",
       "      <td>t</td>\n",
       "      <td>0.0</td>\n",
       "      <td>0.0</td>\n",
       "    </tr>\n",
       "    <tr>\n",
       "      <th>615</th>\n",
       "      <td>prenatal</td>\n",
       "      <td>f</td>\n",
       "      <td>34.0</td>\n",
       "      <td>1.520</td>\n",
       "      <td>70.0</td>\n",
       "      <td>30.4</td>\n",
       "      <td>pregnancy</td>\n",
       "      <td>t</td>\n",
       "      <td>t</td>\n",
       "      <td>t</td>\n",
       "      <td>0</td>\n",
       "      <td>f</td>\n",
       "      <td>1.0</td>\n",
       "      <td>4.0</td>\n",
       "    </tr>\n",
       "    <tr>\n",
       "      <th>719</th>\n",
       "      <td>prenatal</td>\n",
       "      <td>f</td>\n",
       "      <td>26.0</td>\n",
       "      <td>1.600</td>\n",
       "      <td>68.0</td>\n",
       "      <td>26.8</td>\n",
       "      <td>pregnancy</td>\n",
       "      <td>t</td>\n",
       "      <td>t</td>\n",
       "      <td>t</td>\n",
       "      <td>0</td>\n",
       "      <td>f</td>\n",
       "      <td>1.0</td>\n",
       "      <td>5.0</td>\n",
       "    </tr>\n",
       "    <tr>\n",
       "      <th>358</th>\n",
       "      <td>general</td>\n",
       "      <td>f</td>\n",
       "      <td>34.0</td>\n",
       "      <td>1.540</td>\n",
       "      <td>50.0</td>\n",
       "      <td>21.5</td>\n",
       "      <td>cold</td>\n",
       "      <td>t</td>\n",
       "      <td>0</td>\n",
       "      <td>0</td>\n",
       "      <td>0</td>\n",
       "      <td>0</td>\n",
       "      <td>0.0</td>\n",
       "      <td>0.0</td>\n",
       "    </tr>\n",
       "    <tr>\n",
       "      <th>400</th>\n",
       "      <td>general</td>\n",
       "      <td>f</td>\n",
       "      <td>50.0</td>\n",
       "      <td>1.440</td>\n",
       "      <td>59.0</td>\n",
       "      <td>28.5</td>\n",
       "      <td>heart</td>\n",
       "      <td>f</td>\n",
       "      <td>t</td>\n",
       "      <td>0</td>\n",
       "      <td>0</td>\n",
       "      <td>0</td>\n",
       "      <td>0.0</td>\n",
       "      <td>0.0</td>\n",
       "    </tr>\n",
       "  </tbody>\n",
       "</table>\n",
       "</div>"
      ],
      "text/plain": [
       "     hospital gender   age  height  weight   bmi    diagnosis blood_test ecg  \\\n",
       "767  prenatal      f  24.0   1.550    72.0  30.3    pregnancy          t   t   \n",
       "222   general      m  41.0   1.850    85.0  24.8       sprain          0   0   \n",
       "747  prenatal      f  32.0   1.860   103.0  29.8    pregnancy          t   t   \n",
       "479  prenatal      f  35.0   1.810    79.0  24.5    pregnancy          t   t   \n",
       "463  prenatal      f  34.0   1.650    67.0  24.9    pregnancy          t   t   \n",
       "843    sports      f  15.0   1.927   205.0  25.1  dislocation          0   f   \n",
       "952    sports      m  21.0   1.840   186.0  24.9       sprain          0   f   \n",
       "539  prenatal      f  31.0   1.740    66.0  22.1    pregnancy          t   t   \n",
       "690  prenatal      f  13.0   1.520    55.0  24.0    pregnancy          t   t   \n",
       "793    sports      m  19.0   1.827   209.0  28.4  dislocation          0   f   \n",
       "957    sports      f  18.0   1.732   201.0  30.4     fracture          0   f   \n",
       "50    general      f  25.0   1.670    76.0  27.2         cold          f   0   \n",
       "550  prenatal      f  31.0   1.870    97.0  28.1    pregnancy          t   t   \n",
       "584  prenatal      f  31.0   1.520    71.0  30.8    pregnancy          t   t   \n",
       "102   general      f  51.0   1.690    66.0  23.3        heart          t   t   \n",
       "905    sports      f  22.0   1.792   174.0  24.6     fracture          0   f   \n",
       "615  prenatal      f  34.0   1.520    70.0  30.4    pregnancy          t   t   \n",
       "719  prenatal      f  26.0   1.600    68.0  26.8    pregnancy          t   t   \n",
       "358   general      f  34.0   1.540    50.0  21.5         cold          t   0   \n",
       "400   general      f  50.0   1.440    59.0  28.5        heart          f   t   \n",
       "\n",
       "    ultrasound mri xray  children  months  \n",
       "767          t   0    f       0.0     6.0  \n",
       "222          0   0    f       0.0     0.0  \n",
       "747          t   0    f       1.0     4.0  \n",
       "479          t   0    f       1.0     8.0  \n",
       "463          t   0    f       1.0     5.0  \n",
       "843          0   f    t       0.0     0.0  \n",
       "952          0   t    f       0.0     0.0  \n",
       "539          t   0    f       0.0     6.0  \n",
       "690          t   0    f       1.0     5.0  \n",
       "793          0   f    t       0.0     0.0  \n",
       "957          0   f    t       0.0     0.0  \n",
       "50           0   0    0       0.0     0.0  \n",
       "550          t   0    f       0.0     9.0  \n",
       "584          t   0    f       0.0     4.0  \n",
       "102          0   0    0       0.0     0.0  \n",
       "905          0   f    t       0.0     0.0  \n",
       "615          t   0    f       1.0     4.0  \n",
       "719          t   0    f       1.0     5.0  \n",
       "358          0   0    0       0.0     0.0  \n",
       "400          0   0    0       0.0     0.0  "
      ]
     },
     "execution_count": 52,
     "metadata": {},
     "output_type": "execute_result"
    }
   ],
   "source": [
    "df.loc[df['hospital'].eq('sports'), 'height'] = round(df['height'].apply(lambda n: n / 3.2808), 3)\n",
    "df.sample(20)"
   ]
  },
  {
   "cell_type": "markdown",
   "id": "6614a4aa",
   "metadata": {},
   "source": [
    "Finally, we can build a better plot:"
   ]
  },
  {
   "cell_type": "code",
   "execution_count": 63,
   "id": "135110d1",
   "metadata": {},
   "outputs": [
    {
     "data": {
      "image/png": "[encoded data removed]",
      "text/plain": [
       "<Figure size 432x288 with 1 Axes>"
      ]
     },
     "metadata": {
      "needs_background": "light"
     },
     "output_type": "display_data"
    }
   ],
   "source": [
    "plt.violinplot(df['height'], showmeans=True, showmedians=True, showextrema=True)\n",
    "plt.title('Distribution of heights')\n",
    "plt.show()"
   ]
  },
  {
   "cell_type": "markdown",
   "id": "cb3ffc1c",
   "metadata": {},
   "source": [
    "Or with `seaborn`:"
   ]
  },
  {
   "cell_type": "code",
   "execution_count": 74,
   "id": "5306f00f",
   "metadata": {},
   "outputs": [
    {
     "data": {
      "image/png": "[encoded data removed]",
      "text/plain": [
       "<Figure size 432x288 with 1 Axes>"
      ]
     },
     "metadata": {
      "needs_background": "light"
     },
     "output_type": "display_data"
    }
   ],
   "source": [
    "sns.violinplot(x='height', y='hospital', data=df, palette='Pastel2')\n",
    "plt.show()"
   ]
  },
  {
   "cell_type": "markdown",
   "id": "e5c8a6b9",
   "metadata": {},
   "source": [
    "I hope this was helpful! \n",
    "\n",
    "I really recommend the JetBrains Academy learning tracks. I had some knowledge of `pandas`, `matplotlib`, `seaborn` before doing this project, but I think even total begginners can benefit from it.\n",
    "\n",
    "Happy data analysis & plotting :)\n",
    "\n",
    "\n",
    "Kate"
   ]
  }
 ],
 "metadata": {
  "kernelspec": {
   "display_name": "Python 3 (ipykernel)",
   "language": "python",
   "name": "python3"
  },
  "language_info": {
   "codemirror_mode": {
    "name": "ipython",
    "version": 3
   },
   "file_extension": ".py",
   "mimetype": "text/x-python",
   "name": "python",
   "nbconvert_exporter": "python",
   "pygments_lexer": "ipython3",
   "version": "3.9.7"
  }
 },
 "nbformat": 4,
 "nbformat_minor": 5
}
